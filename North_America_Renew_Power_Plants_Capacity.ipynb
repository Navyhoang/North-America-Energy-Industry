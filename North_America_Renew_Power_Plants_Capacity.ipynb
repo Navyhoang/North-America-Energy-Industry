{
  "nbformat": 4,
  "nbformat_minor": 0,
  "metadata": {
    "colab": {
      "name": "North America Renew Power Plants Capacity",
      "provenance": []
    },
    "kernelspec": {
      "name": "python3",
      "display_name": "Python 3"
    },
    "language_info": {
      "name": "python"
    }
  },
  "cells": [
    {
      "cell_type": "markdown",
      "metadata": {
        "id": "vPnibxS3ZLp7"
      },
      "source": [
        "## Import standard Libraries and packages"
      ]
    },
    {
      "cell_type": "code",
      "metadata": {
        "id": "0tY57FE0Xm5X"
      },
      "source": [
        "import pandas as pd\n",
        "import numpy as np\n",
        "import datetime as dt\n",
        "import matplotlib.pyplot as plt"
      ],
      "execution_count": 121,
      "outputs": []
    },
    {
      "cell_type": "markdown",
      "metadata": {
        "id": "hokTCa58ZV2B"
      },
      "source": [
        "## Project Objectives and Dataset Source"
      ]
    },
    {
      "cell_type": "markdown",
      "metadata": {
        "id": "UB-S6Jh_ZeoR"
      },
      "source": [
        "- **Objective**: This project is created to explore, analyze, and understand the current energy production from renewable energy sources in North America.\n",
        "- **Analytics Type**: Descriptive Analytics. Thus, this project will summarize key features of the dataset to describe what happened in the past and provide digestible snapshots for visualization purposes.\n",
        "- **Data Type**: Structured data (Nemerical and Categorical), Non time-series. Since it's a structured dataset, the clean dataset will be stored in a SQL database such as SQL Elephant or PostgreSQL.\n",
        "- **Visualization Method**: Python libraries such as MatplotLib, Seaborn. In addition, a dashboard will also be created using Power BI.\n",
        "- **Data Source**: A static dataset (not streaming) called \"PowerPlantsRenewGE1MW_NorthAmerica_201708.xlxs\" was obtained from Government of Canada website, https://open.canada.ca/data/en/dataset/490db619-ab58-4a2a-a245-2376ce1840de\n",
        "- Dataset includes:\n",
        "      *   Stations with installed capacipy of more than 1MG electrical energy generated from renewable energy sources.\n",
        "      *   Data were collected for all countries in North America\n",
        "      *   Renewable Energy sources include: biomass, hydroelectric, pumped-storage hydroelectric, geothermal, solar, and wind.\n",
        "\n",
        "\n",
        "\n"
      ]
    },
    {
      "cell_type": "markdown",
      "metadata": {
        "id": "xdoygTvOuR21"
      },
      "source": [
        "## Brief Overview of Final Results"
      ]
    },
    {
      "cell_type": "markdown",
      "metadata": {
        "id": "ufWvRCOOpGRl"
      },
      "source": [
        "**Questions to answer:**\n",
        "*   Capacity of each country\n",
        "*   Capacity of each State\n",
        "*   Capacity by source of each country\n",
        "\n"
      ]
    },
    {
      "cell_type": "markdown",
      "metadata": {
        "id": "SpaeYnstuVrC"
      },
      "source": [
        "**Results summary for the period between 2000-2017:**\n",
        "*   Within North America, U.S is the leader in electrical power production with 67.8% contribution to the total capacity produced within North America. Canada follows with 27.5% and finally Mexico with 4.8%.\n",
        "*   Within Canada, the top 3 provinces that produce electrical power are Quebec (44,402 MW), follows by British Columbia (17,642 MW) and Ontario (15,996 MW). The rest of the provinces produce less than 7000 kW each, thus making up small percentage in the contribution to the total power production. The breakdown of Capacity by source for each state is also provided. For example, Hydroelectric power is the main energy source in Canada and is most produced  in Quebec, BC, Ontario, Newfoundland, and BC in descending order. The second most important energy source in Canada is Wind, which is most produced in Ontario, Quebec, and Alberta in descending order. Solar energy source is mainly produced in Ontatio. \n",
        "*   Within US, the top 3 states that produce electrical power are California (34,199 MW), follows by Washington (25,000 MW) and Texas (23,152 MW). The rest of the states produce less than 12000 kW each. The breakdown of Capacity by source for the top 20 states are also provided. For example, Hydroelectric power is the main source in Washington, Oregon, Newyork, and Arizona.\n",
        "*   Within Mexico, the top 3 territories that produce electrical power are Chiapas (4860 MW), follows by Oaxaca (2702 MW) and Nayarit (2543 MW). The rest of the territories produce less than 1800 kW each. The breakdown of Capacity by source is also provided. For example, Hydroelectric power is the main source in Chiapas, Nayarit, Guerrero, Sinaloa, etc.\n",
        "*   US has the diversified power industry. The energy is produced from 10 major sources. The top 5 major sources are Wind, Hydroelectric, Solar, Pumped Storage, and Biomass in the descending order.\n",
        "*   Canada is much more restricted to only 4-5 energy sources. The majority of power is produced from Hydroelectric, follow by Wind. A much smaller amount of energy is produced from Solarand Biomass.\n",
        "*    Mexico is much more restricted to only 2 energy sources, Hydroelectric and Wind.\n"
      ]
    },
    {
      "cell_type": "markdown",
      "metadata": {
        "id": "dQ0cl-CyO8FI"
      },
      "source": [
        "# Next Step"
      ]
    },
    {
      "cell_type": "markdown",
      "metadata": {
        "id": "OSOEktJ3O-qK"
      },
      "source": [
        "- Load clean dataset onto Elephant SQL (PostgreSQL).\n",
        "- Join with other datasets and create insightful dashboard."
      ]
    },
    {
      "cell_type": "markdown",
      "metadata": {
        "id": "iclLjmMgPrKx"
      },
      "source": [
        "# Coding Start"
      ]
    },
    {
      "cell_type": "markdown",
      "metadata": {
        "id": "KqA6eZpAZcI4"
      },
      "source": [
        "## Data Loading"
      ]
    },
    {
      "cell_type": "code",
      "metadata": {
        "colab": {
          "base_uri": "https://localhost:8080/",
          "height": 422
        },
        "id": "czB85B61YKHl",
        "outputId": "c3fc37bc-d012-4edc-ec85-009741d687ad"
      },
      "source": [
        "raw_data = pd.read_excel(\"PowerPlantsRenewGE1MW_NorthAmerica_201708.xlsx\")\n",
        "raw_data.head()"
      ],
      "execution_count": 5,
      "outputs": [
        {
          "output_type": "execute_result",
          "data": {
            "text/html": [
              "<div>\n",
              "<style scoped>\n",
              "    .dataframe tbody tr th:only-of-type {\n",
              "        vertical-align: middle;\n",
              "    }\n",
              "\n",
              "    .dataframe tbody tr th {\n",
              "        vertical-align: top;\n",
              "    }\n",
              "\n",
              "    .dataframe thead th {\n",
              "        text-align: right;\n",
              "    }\n",
              "</style>\n",
              "<table border=\"1\" class=\"dataframe\">\n",
              "  <thead>\n",
              "    <tr style=\"text-align: right;\">\n",
              "      <th></th>\n",
              "      <th>Country</th>\n",
              "      <th>Facility Name</th>\n",
              "      <th>Owner Name (Company)</th>\n",
              "      <th>Operator Name</th>\n",
              "      <th>Latitude</th>\n",
              "      <th>Longitude</th>\n",
              "      <th>City (Site Name)</th>\n",
              "      <th>County</th>\n",
              "      <th>State / Province / Territory</th>\n",
              "      <th>Zip Code / Postal Code</th>\n",
              "      <th>Address</th>\n",
              "      <th>Total Capacity (MW)</th>\n",
              "      <th>Total Renewable Capacity (MW)</th>\n",
              "      <th>Primary Energy Source</th>\n",
              "      <th>Primary Renewable Energy Source</th>\n",
              "      <th>Coal (MW)</th>\n",
              "      <th>Natural Gas (MW)</th>\n",
              "      <th>Petroleum (MW)</th>\n",
              "      <th>Other Energy Source (MW)</th>\n",
              "      <th>Hydroelectric (MW)</th>\n",
              "      <th>Pumped-Storage Hydroelectric (MW)</th>\n",
              "      <th>Nuclear (MW)</th>\n",
              "      <th>Solar (MW)</th>\n",
              "      <th>Wind (MW)</th>\n",
              "      <th>Geothermal (MW)</th>\n",
              "      <th>Biomass (MW)</th>\n",
              "      <th>Tidal (MW)</th>\n",
              "      <th>Source Agency</th>\n",
              "      <th>Reference Period</th>\n",
              "    </tr>\n",
              "  </thead>\n",
              "  <tbody>\n",
              "    <tr>\n",
              "      <th>0</th>\n",
              "      <td>Mexico</td>\n",
              "      <td>Santa Rosalía</td>\n",
              "      <td>Comisión Federal de Electricidad</td>\n",
              "      <td>CFE</td>\n",
              "      <td>27.410710</td>\n",
              "      <td>-112.529196</td>\n",
              "      <td>Mulegé</td>\n",
              "      <td>NaN</td>\n",
              "      <td>Baja California Sur</td>\n",
              "      <td>NaN</td>\n",
              "      <td>NaN</td>\n",
              "      <td>1.0</td>\n",
              "      <td>1.0</td>\n",
              "      <td>Solar</td>\n",
              "      <td>Solar</td>\n",
              "      <td>0.0</td>\n",
              "      <td>0.0</td>\n",
              "      <td>0.0</td>\n",
              "      <td>0.0</td>\n",
              "      <td>0.0</td>\n",
              "      <td>0.0</td>\n",
              "      <td>0.0</td>\n",
              "      <td>1.0</td>\n",
              "      <td>0.0</td>\n",
              "      <td>0.0</td>\n",
              "      <td>0.0</td>\n",
              "      <td>0</td>\n",
              "      <td>CFE-CENACE</td>\n",
              "      <td>201708</td>\n",
              "    </tr>\n",
              "    <tr>\n",
              "      <th>1</th>\n",
              "      <td>Mexico</td>\n",
              "      <td>Plamex</td>\n",
              "      <td>Plantronics, Inc.</td>\n",
              "      <td>Privado</td>\n",
              "      <td>32.416893</td>\n",
              "      <td>-115.234141</td>\n",
              "      <td>Tijuana</td>\n",
              "      <td>NaN</td>\n",
              "      <td>Baja California</td>\n",
              "      <td>NaN</td>\n",
              "      <td>NaN</td>\n",
              "      <td>1.0</td>\n",
              "      <td>1.0</td>\n",
              "      <td>Solar</td>\n",
              "      <td>Solar</td>\n",
              "      <td>0.0</td>\n",
              "      <td>0.0</td>\n",
              "      <td>0.0</td>\n",
              "      <td>0.0</td>\n",
              "      <td>0.0</td>\n",
              "      <td>0.0</td>\n",
              "      <td>0.0</td>\n",
              "      <td>1.0</td>\n",
              "      <td>0.0</td>\n",
              "      <td>0.0</td>\n",
              "      <td>0.0</td>\n",
              "      <td>0</td>\n",
              "      <td>CFE-CENACE</td>\n",
              "      <td>201708</td>\n",
              "    </tr>\n",
              "    <tr>\n",
              "      <th>2</th>\n",
              "      <td>Mexico</td>\n",
              "      <td>Tirio</td>\n",
              "      <td>Comisión Federal de Electricidad</td>\n",
              "      <td>CFE</td>\n",
              "      <td>19.629724</td>\n",
              "      <td>-101.258937</td>\n",
              "      <td>Morelia</td>\n",
              "      <td>NaN</td>\n",
              "      <td>Michoacán</td>\n",
              "      <td>NaN</td>\n",
              "      <td>NaN</td>\n",
              "      <td>1.1</td>\n",
              "      <td>1.1</td>\n",
              "      <td>Hydroelectric</td>\n",
              "      <td>Hydroelectric</td>\n",
              "      <td>0.0</td>\n",
              "      <td>0.0</td>\n",
              "      <td>0.0</td>\n",
              "      <td>0.0</td>\n",
              "      <td>1.1</td>\n",
              "      <td>0.0</td>\n",
              "      <td>0.0</td>\n",
              "      <td>0.0</td>\n",
              "      <td>0.0</td>\n",
              "      <td>0.0</td>\n",
              "      <td>0.0</td>\n",
              "      <td>0</td>\n",
              "      <td>CFE-CENACE</td>\n",
              "      <td>201708</td>\n",
              "    </tr>\n",
              "    <tr>\n",
              "      <th>3</th>\n",
              "      <td>Mexico</td>\n",
              "      <td>Hidroelectrica Cajon de Peña</td>\n",
              "      <td>INDUSTRIAS WACK, S. A. DE C. V.</td>\n",
              "      <td>Privado</td>\n",
              "      <td>20.017135</td>\n",
              "      <td>-105.221590</td>\n",
              "      <td>Tomatlán</td>\n",
              "      <td>NaN</td>\n",
              "      <td>Jalisco</td>\n",
              "      <td>NaN</td>\n",
              "      <td>NaN</td>\n",
              "      <td>1.2</td>\n",
              "      <td>1.2</td>\n",
              "      <td>Hydroelectric</td>\n",
              "      <td>Hydroelectric</td>\n",
              "      <td>0.0</td>\n",
              "      <td>0.0</td>\n",
              "      <td>0.0</td>\n",
              "      <td>0.0</td>\n",
              "      <td>1.2</td>\n",
              "      <td>0.0</td>\n",
              "      <td>0.0</td>\n",
              "      <td>0.0</td>\n",
              "      <td>0.0</td>\n",
              "      <td>0.0</td>\n",
              "      <td>0.0</td>\n",
              "      <td>0</td>\n",
              "      <td>CFE-CENACE</td>\n",
              "      <td>201708</td>\n",
              "    </tr>\n",
              "    <tr>\n",
              "      <th>4</th>\n",
              "      <td>Mexico</td>\n",
              "      <td>Papelera Veracruzana</td>\n",
              "      <td>Papelera Veracruzana, S. A. De C. V.</td>\n",
              "      <td>Privado</td>\n",
              "      <td>18.834267</td>\n",
              "      <td>-97.103047</td>\n",
              "      <td>Orizaba</td>\n",
              "      <td>NaN</td>\n",
              "      <td>Veracruz</td>\n",
              "      <td>NaN</td>\n",
              "      <td>NaN</td>\n",
              "      <td>1.3</td>\n",
              "      <td>1.3</td>\n",
              "      <td>Hydroelectric</td>\n",
              "      <td>Hydroelectric</td>\n",
              "      <td>0.0</td>\n",
              "      <td>0.0</td>\n",
              "      <td>0.0</td>\n",
              "      <td>0.0</td>\n",
              "      <td>1.3</td>\n",
              "      <td>0.0</td>\n",
              "      <td>0.0</td>\n",
              "      <td>0.0</td>\n",
              "      <td>0.0</td>\n",
              "      <td>0.0</td>\n",
              "      <td>0.0</td>\n",
              "      <td>0</td>\n",
              "      <td>CFE-CENACE</td>\n",
              "      <td>201708</td>\n",
              "    </tr>\n",
              "  </tbody>\n",
              "</table>\n",
              "</div>"
            ],
            "text/plain": [
              "  Country                 Facility Name  ... Source Agency Reference Period\n",
              "0  Mexico                 Santa Rosalía  ...    CFE-CENACE           201708\n",
              "1  Mexico                        Plamex  ...    CFE-CENACE           201708\n",
              "2  Mexico                         Tirio  ...    CFE-CENACE           201708\n",
              "3  Mexico  Hidroelectrica Cajon de Peña  ...    CFE-CENACE           201708\n",
              "4  Mexico          Papelera Veracruzana  ...    CFE-CENACE           201708\n",
              "\n",
              "[5 rows x 29 columns]"
            ]
          },
          "metadata": {
            "tags": []
          },
          "execution_count": 5
        }
      ]
    },
    {
      "cell_type": "code",
      "metadata": {
        "colab": {
          "base_uri": "https://localhost:8080/"
        },
        "id": "OBcWu5AGlt8O",
        "outputId": "9a1c5b24-ea29-422f-ece6-858d91e1992a"
      },
      "source": [
        "raw_data.columns"
      ],
      "execution_count": 6,
      "outputs": [
        {
          "output_type": "execute_result",
          "data": {
            "text/plain": [
              "Index(['Country', 'Facility Name', 'Owner Name (Company)', 'Operator Name',\n",
              "       'Latitude', 'Longitude', 'City (Site Name)', 'County',\n",
              "       'State / Province / Territory', 'Zip Code / Postal Code', 'Address',\n",
              "       'Total Capacity (MW)', 'Total Renewable Capacity (MW)',\n",
              "       'Primary Energy Source', 'Primary Renewable Energy Source', 'Coal (MW)',\n",
              "       'Natural Gas (MW)', 'Petroleum (MW)', 'Other Energy Source (MW)',\n",
              "       'Hydroelectric (MW)', 'Pumped-Storage Hydroelectric (MW)',\n",
              "       'Nuclear (MW)', 'Solar (MW)', 'Wind (MW)', 'Geothermal (MW)',\n",
              "       'Biomass (MW)', 'Tidal (MW)', 'Source Agency', 'Reference Period'],\n",
              "      dtype='object')"
            ]
          },
          "metadata": {
            "tags": []
          },
          "execution_count": 6
        }
      ]
    },
    {
      "cell_type": "code",
      "metadata": {
        "colab": {
          "base_uri": "https://localhost:8080/"
        },
        "id": "_2X30WcFmEpb",
        "outputId": "9b1abb6d-6ee7-4ae3-d6c4-685c7564bb14"
      },
      "source": [
        "raw_data[\"Primary Energy Source\"].value_counts()"
      ],
      "execution_count": 7,
      "outputs": [
        {
          "output_type": "execute_result",
          "data": {
            "text/plain": [
              "Hydroelectric     2037\n",
              "Solar             2034\n",
              "Wind              1284\n",
              "Biomass            846\n",
              "Geothermal          73\n",
              "Pumped Storage      37\n",
              "Natural Gas         29\n",
              "Petroleum           21\n",
              "Coal                 8\n",
              "Other                6\n",
              "Tidal                1\n",
              "Nuclear              1\n",
              "Name: Primary Energy Source, dtype: int64"
            ]
          },
          "metadata": {
            "tags": []
          },
          "execution_count": 7
        }
      ]
    },
    {
      "cell_type": "code",
      "metadata": {
        "colab": {
          "base_uri": "https://localhost:8080/"
        },
        "id": "0ojyFWdxmivo",
        "outputId": "bef5e5e8-7b06-4b81-89ef-d75ef7a96195"
      },
      "source": [
        "raw_data[\"Primary Renewable Energy Source\"].value_counts()"
      ],
      "execution_count": 8,
      "outputs": [
        {
          "output_type": "execute_result",
          "data": {
            "text/plain": [
              "Solar             2052\n",
              "Hydroelectric     2051\n",
              "Wind              1293\n",
              "Biomass            868\n",
              "Geothermal          73\n",
              "Pumped Storage      36\n",
              "Other                3\n",
              "Tidal                1\n",
              "Name: Primary Renewable Energy Source, dtype: int64"
            ]
          },
          "metadata": {
            "tags": []
          },
          "execution_count": 8
        }
      ]
    },
    {
      "cell_type": "markdown",
      "metadata": {
        "id": "1Qg9pJJxbkLz"
      },
      "source": [
        "## Data Validation and Cleaning"
      ]
    },
    {
      "cell_type": "code",
      "metadata": {
        "id": "sMEy5tqzbvuT"
      },
      "source": [
        "# Drop unimportant columns\n",
        "df = raw_data.drop([\"Owner Name (Company)\",\"Operator Name\", \"County\", \"Zip Code / Postal Code\", \"Zip Code / Postal Code\", \"Address\", \"Total Renewable Capacity (MW)\", \"Primary Renewable Energy Source\", \"Source Agency\"], axis=\"columns\", inplace=False)"
      ],
      "execution_count": 9,
      "outputs": []
    },
    {
      "cell_type": "code",
      "metadata": {
        "colab": {
          "base_uri": "https://localhost:8080/",
          "height": 304
        },
        "id": "BmMhjdxJlMdT",
        "outputId": "68133742-cf16-45ac-ad9a-183dd14cac9b"
      },
      "source": [
        "# Check for irregular data entries by looking at stats summary\n",
        "df.describe()"
      ],
      "execution_count": 10,
      "outputs": [
        {
          "output_type": "execute_result",
          "data": {
            "text/html": [
              "<div>\n",
              "<style scoped>\n",
              "    .dataframe tbody tr th:only-of-type {\n",
              "        vertical-align: middle;\n",
              "    }\n",
              "\n",
              "    .dataframe tbody tr th {\n",
              "        vertical-align: top;\n",
              "    }\n",
              "\n",
              "    .dataframe thead th {\n",
              "        text-align: right;\n",
              "    }\n",
              "</style>\n",
              "<table border=\"1\" class=\"dataframe\">\n",
              "  <thead>\n",
              "    <tr style=\"text-align: right;\">\n",
              "      <th></th>\n",
              "      <th>Latitude</th>\n",
              "      <th>Longitude</th>\n",
              "      <th>Total Capacity (MW)</th>\n",
              "      <th>Coal (MW)</th>\n",
              "      <th>Natural Gas (MW)</th>\n",
              "      <th>Petroleum (MW)</th>\n",
              "      <th>Other Energy Source (MW)</th>\n",
              "      <th>Hydroelectric (MW)</th>\n",
              "      <th>Pumped-Storage Hydroelectric (MW)</th>\n",
              "      <th>Nuclear (MW)</th>\n",
              "      <th>Solar (MW)</th>\n",
              "      <th>Wind (MW)</th>\n",
              "      <th>Geothermal (MW)</th>\n",
              "      <th>Biomass (MW)</th>\n",
              "      <th>Tidal (MW)</th>\n",
              "      <th>Reference Period</th>\n",
              "    </tr>\n",
              "  </thead>\n",
              "  <tbody>\n",
              "    <tr>\n",
              "      <th>count</th>\n",
              "      <td>6377.000000</td>\n",
              "      <td>6377.000000</td>\n",
              "      <td>6377.000000</td>\n",
              "      <td>6377.000000</td>\n",
              "      <td>6377.000000</td>\n",
              "      <td>6377.000000</td>\n",
              "      <td>6377.000000</td>\n",
              "      <td>6377.000000</td>\n",
              "      <td>6377.000000</td>\n",
              "      <td>6377.000000</td>\n",
              "      <td>6377.00000</td>\n",
              "      <td>6377.000000</td>\n",
              "      <td>6377.000000</td>\n",
              "      <td>6377.000000</td>\n",
              "      <td>6377.000000</td>\n",
              "      <td>6377.000000</td>\n",
              "    </tr>\n",
              "    <tr>\n",
              "      <th>mean</th>\n",
              "      <td>40.158392</td>\n",
              "      <td>-94.189030</td>\n",
              "      <td>55.495139</td>\n",
              "      <td>0.760499</td>\n",
              "      <td>0.569766</td>\n",
              "      <td>0.101129</td>\n",
              "      <td>0.030532</td>\n",
              "      <td>27.031018</td>\n",
              "      <td>3.410177</td>\n",
              "      <td>0.307260</td>\n",
              "      <td>4.00795</td>\n",
              "      <td>15.582468</td>\n",
              "      <td>0.719947</td>\n",
              "      <td>2.971256</td>\n",
              "      <td>0.003136</td>\n",
              "      <td>199443.013486</td>\n",
              "    </tr>\n",
              "    <tr>\n",
              "      <th>std</th>\n",
              "      <td>6.352200</td>\n",
              "      <td>19.548288</td>\n",
              "      <td>211.890057</td>\n",
              "      <td>33.245606</td>\n",
              "      <td>15.319266</td>\n",
              "      <td>2.612723</td>\n",
              "      <td>0.774814</td>\n",
              "      <td>190.889000</td>\n",
              "      <td>65.062631</td>\n",
              "      <td>24.536629</td>\n",
              "      <td>19.94884</td>\n",
              "      <td>48.938319</td>\n",
              "      <td>16.227568</td>\n",
              "      <td>13.040922</td>\n",
              "      <td>0.250450</td>\n",
              "      <td>21100.561383</td>\n",
              "    </tr>\n",
              "    <tr>\n",
              "      <th>min</th>\n",
              "      <td>14.961318</td>\n",
              "      <td>-165.429814</td>\n",
              "      <td>1.000000</td>\n",
              "      <td>0.000000</td>\n",
              "      <td>0.000000</td>\n",
              "      <td>0.000000</td>\n",
              "      <td>0.000000</td>\n",
              "      <td>0.000000</td>\n",
              "      <td>0.000000</td>\n",
              "      <td>0.000000</td>\n",
              "      <td>0.00000</td>\n",
              "      <td>0.000000</td>\n",
              "      <td>0.000000</td>\n",
              "      <td>0.000000</td>\n",
              "      <td>0.000000</td>\n",
              "      <td>2000.000000</td>\n",
              "    </tr>\n",
              "    <tr>\n",
              "      <th>25%</th>\n",
              "      <td>35.549401</td>\n",
              "      <td>-114.967778</td>\n",
              "      <td>2.900000</td>\n",
              "      <td>0.000000</td>\n",
              "      <td>0.000000</td>\n",
              "      <td>0.000000</td>\n",
              "      <td>0.000000</td>\n",
              "      <td>0.000000</td>\n",
              "      <td>0.000000</td>\n",
              "      <td>0.000000</td>\n",
              "      <td>0.00000</td>\n",
              "      <td>0.000000</td>\n",
              "      <td>0.000000</td>\n",
              "      <td>0.000000</td>\n",
              "      <td>0.000000</td>\n",
              "      <td>201705.000000</td>\n",
              "    </tr>\n",
              "    <tr>\n",
              "      <th>50%</th>\n",
              "      <td>40.756944</td>\n",
              "      <td>-89.516700</td>\n",
              "      <td>8.000000</td>\n",
              "      <td>0.000000</td>\n",
              "      <td>0.000000</td>\n",
              "      <td>0.000000</td>\n",
              "      <td>0.000000</td>\n",
              "      <td>0.000000</td>\n",
              "      <td>0.000000</td>\n",
              "      <td>0.000000</td>\n",
              "      <td>0.00000</td>\n",
              "      <td>0.000000</td>\n",
              "      <td>0.000000</td>\n",
              "      <td>0.000000</td>\n",
              "      <td>0.000000</td>\n",
              "      <td>201705.000000</td>\n",
              "    </tr>\n",
              "    <tr>\n",
              "      <th>75%</th>\n",
              "      <td>44.298354</td>\n",
              "      <td>-77.383889</td>\n",
              "      <td>39.900000</td>\n",
              "      <td>0.000000</td>\n",
              "      <td>0.000000</td>\n",
              "      <td>0.000000</td>\n",
              "      <td>0.000000</td>\n",
              "      <td>2.900000</td>\n",
              "      <td>0.000000</td>\n",
              "      <td>0.000000</td>\n",
              "      <td>1.60000</td>\n",
              "      <td>0.000000</td>\n",
              "      <td>0.000000</td>\n",
              "      <td>0.000000</td>\n",
              "      <td>0.000000</td>\n",
              "      <td>201705.000000</td>\n",
              "    </tr>\n",
              "    <tr>\n",
              "      <th>max</th>\n",
              "      <td>66.837778</td>\n",
              "      <td>-52.712262</td>\n",
              "      <td>6809.000000</td>\n",
              "      <td>1822.500000</td>\n",
              "      <td>980.600000</td>\n",
              "      <td>157.600000</td>\n",
              "      <td>36.000000</td>\n",
              "      <td>6495.000000</td>\n",
              "      <td>2862.000000</td>\n",
              "      <td>1959.400000</td>\n",
              "      <td>585.90000</td>\n",
              "      <td>735.500000</td>\n",
              "      <td>1163.000000</td>\n",
              "      <td>215.000000</td>\n",
              "      <td>20.000000</td>\n",
              "      <td>201708.000000</td>\n",
              "    </tr>\n",
              "  </tbody>\n",
              "</table>\n",
              "</div>"
            ],
            "text/plain": [
              "          Latitude    Longitude  ...   Tidal (MW)  Reference Period\n",
              "count  6377.000000  6377.000000  ...  6377.000000       6377.000000\n",
              "mean     40.158392   -94.189030  ...     0.003136     199443.013486\n",
              "std       6.352200    19.548288  ...     0.250450      21100.561383\n",
              "min      14.961318  -165.429814  ...     0.000000       2000.000000\n",
              "25%      35.549401  -114.967778  ...     0.000000     201705.000000\n",
              "50%      40.756944   -89.516700  ...     0.000000     201705.000000\n",
              "75%      44.298354   -77.383889  ...     0.000000     201705.000000\n",
              "max      66.837778   -52.712262  ...    20.000000     201708.000000\n",
              "\n",
              "[8 rows x 16 columns]"
            ]
          },
          "metadata": {
            "tags": []
          },
          "execution_count": 10
        }
      ]
    },
    {
      "cell_type": "markdown",
      "metadata": {
        "id": "tH2w_8x4hrYC"
      },
      "source": [
        "\n",
        "\n",
        "*   All max and min values are within the realistic ranges, except for column Reference Period where max value is 201708 and min is 2000. This mean there is at least one row that missing the month entry.\n",
        "*   Percentage contribution of each energy source to the total renewable capacity seems reasonable. Further investigation of the dataset will confirm the accuracy of this dataset.\n",
        "\n"
      ]
    },
    {
      "cell_type": "code",
      "metadata": {
        "id": "RTfhByvjl-I5"
      },
      "source": [
        "# Create a new column \"Year\" as few sites only have year recorded\n",
        "df[\"Year\"]= df['Reference Period'].astype(str).str[:4]\n",
        "df[\"Month\"] = df['Reference Period'].astype(str).str[4:]"
      ],
      "execution_count": 11,
      "outputs": []
    },
    {
      "cell_type": "code",
      "metadata": {
        "id": "VBgMvOp8f2IS"
      },
      "source": [
        "# The month column have all months except october. Assume that the empty spaces are meant to be october. Thus replace as following\n",
        "df[\"Month\"].replace('', '10', regex=True, inplace=True)"
      ],
      "execution_count": 12,
      "outputs": []
    },
    {
      "cell_type": "code",
      "metadata": {
        "id": "uSKc82jbdhjI"
      },
      "source": [
        "# Convert columns Year and Month to numeric and comebine into a column Date\n",
        "pd.to_numeric(df[\"Year\"])\n",
        "pd.to_numeric(df[\"Month\"])\n",
        "df['Date'] = pd.to_datetime(df[['Year', 'Month']].assign(DAY=1))"
      ],
      "execution_count": 13,
      "outputs": []
    },
    {
      "cell_type": "code",
      "metadata": {
        "colab": {
          "base_uri": "https://localhost:8080/",
          "height": 316
        },
        "id": "P85qeqzUhma5",
        "outputId": "0cb46a65-3031-428b-eaec-ba5e525f83cd"
      },
      "source": [
        "# Drop reference period, Year, and Month column\n",
        "df = df.drop([\"Reference Period\",\"Year\", \"Month\"], axis=\"columns\")\n",
        "df.head()"
      ],
      "execution_count": 14,
      "outputs": [
        {
          "output_type": "execute_result",
          "data": {
            "text/html": [
              "<div>\n",
              "<style scoped>\n",
              "    .dataframe tbody tr th:only-of-type {\n",
              "        vertical-align: middle;\n",
              "    }\n",
              "\n",
              "    .dataframe tbody tr th {\n",
              "        vertical-align: top;\n",
              "    }\n",
              "\n",
              "    .dataframe thead th {\n",
              "        text-align: right;\n",
              "    }\n",
              "</style>\n",
              "<table border=\"1\" class=\"dataframe\">\n",
              "  <thead>\n",
              "    <tr style=\"text-align: right;\">\n",
              "      <th></th>\n",
              "      <th>Country</th>\n",
              "      <th>Facility Name</th>\n",
              "      <th>Latitude</th>\n",
              "      <th>Longitude</th>\n",
              "      <th>City (Site Name)</th>\n",
              "      <th>State / Province / Territory</th>\n",
              "      <th>Total Capacity (MW)</th>\n",
              "      <th>Primary Energy Source</th>\n",
              "      <th>Coal (MW)</th>\n",
              "      <th>Natural Gas (MW)</th>\n",
              "      <th>Petroleum (MW)</th>\n",
              "      <th>Other Energy Source (MW)</th>\n",
              "      <th>Hydroelectric (MW)</th>\n",
              "      <th>Pumped-Storage Hydroelectric (MW)</th>\n",
              "      <th>Nuclear (MW)</th>\n",
              "      <th>Solar (MW)</th>\n",
              "      <th>Wind (MW)</th>\n",
              "      <th>Geothermal (MW)</th>\n",
              "      <th>Biomass (MW)</th>\n",
              "      <th>Tidal (MW)</th>\n",
              "      <th>Date</th>\n",
              "    </tr>\n",
              "  </thead>\n",
              "  <tbody>\n",
              "    <tr>\n",
              "      <th>0</th>\n",
              "      <td>Mexico</td>\n",
              "      <td>Santa Rosalía</td>\n",
              "      <td>27.410710</td>\n",
              "      <td>-112.529196</td>\n",
              "      <td>Mulegé</td>\n",
              "      <td>Baja California Sur</td>\n",
              "      <td>1.0</td>\n",
              "      <td>Solar</td>\n",
              "      <td>0.0</td>\n",
              "      <td>0.0</td>\n",
              "      <td>0.0</td>\n",
              "      <td>0.0</td>\n",
              "      <td>0.0</td>\n",
              "      <td>0.0</td>\n",
              "      <td>0.0</td>\n",
              "      <td>1.0</td>\n",
              "      <td>0.0</td>\n",
              "      <td>0.0</td>\n",
              "      <td>0.0</td>\n",
              "      <td>0</td>\n",
              "      <td>2017-08-01</td>\n",
              "    </tr>\n",
              "    <tr>\n",
              "      <th>1</th>\n",
              "      <td>Mexico</td>\n",
              "      <td>Plamex</td>\n",
              "      <td>32.416893</td>\n",
              "      <td>-115.234141</td>\n",
              "      <td>Tijuana</td>\n",
              "      <td>Baja California</td>\n",
              "      <td>1.0</td>\n",
              "      <td>Solar</td>\n",
              "      <td>0.0</td>\n",
              "      <td>0.0</td>\n",
              "      <td>0.0</td>\n",
              "      <td>0.0</td>\n",
              "      <td>0.0</td>\n",
              "      <td>0.0</td>\n",
              "      <td>0.0</td>\n",
              "      <td>1.0</td>\n",
              "      <td>0.0</td>\n",
              "      <td>0.0</td>\n",
              "      <td>0.0</td>\n",
              "      <td>0</td>\n",
              "      <td>2017-08-01</td>\n",
              "    </tr>\n",
              "    <tr>\n",
              "      <th>2</th>\n",
              "      <td>Mexico</td>\n",
              "      <td>Tirio</td>\n",
              "      <td>19.629724</td>\n",
              "      <td>-101.258937</td>\n",
              "      <td>Morelia</td>\n",
              "      <td>Michoacán</td>\n",
              "      <td>1.1</td>\n",
              "      <td>Hydroelectric</td>\n",
              "      <td>0.0</td>\n",
              "      <td>0.0</td>\n",
              "      <td>0.0</td>\n",
              "      <td>0.0</td>\n",
              "      <td>1.1</td>\n",
              "      <td>0.0</td>\n",
              "      <td>0.0</td>\n",
              "      <td>0.0</td>\n",
              "      <td>0.0</td>\n",
              "      <td>0.0</td>\n",
              "      <td>0.0</td>\n",
              "      <td>0</td>\n",
              "      <td>2017-08-01</td>\n",
              "    </tr>\n",
              "    <tr>\n",
              "      <th>3</th>\n",
              "      <td>Mexico</td>\n",
              "      <td>Hidroelectrica Cajon de Peña</td>\n",
              "      <td>20.017135</td>\n",
              "      <td>-105.221590</td>\n",
              "      <td>Tomatlán</td>\n",
              "      <td>Jalisco</td>\n",
              "      <td>1.2</td>\n",
              "      <td>Hydroelectric</td>\n",
              "      <td>0.0</td>\n",
              "      <td>0.0</td>\n",
              "      <td>0.0</td>\n",
              "      <td>0.0</td>\n",
              "      <td>1.2</td>\n",
              "      <td>0.0</td>\n",
              "      <td>0.0</td>\n",
              "      <td>0.0</td>\n",
              "      <td>0.0</td>\n",
              "      <td>0.0</td>\n",
              "      <td>0.0</td>\n",
              "      <td>0</td>\n",
              "      <td>2017-08-01</td>\n",
              "    </tr>\n",
              "    <tr>\n",
              "      <th>4</th>\n",
              "      <td>Mexico</td>\n",
              "      <td>Papelera Veracruzana</td>\n",
              "      <td>18.834267</td>\n",
              "      <td>-97.103047</td>\n",
              "      <td>Orizaba</td>\n",
              "      <td>Veracruz</td>\n",
              "      <td>1.3</td>\n",
              "      <td>Hydroelectric</td>\n",
              "      <td>0.0</td>\n",
              "      <td>0.0</td>\n",
              "      <td>0.0</td>\n",
              "      <td>0.0</td>\n",
              "      <td>1.3</td>\n",
              "      <td>0.0</td>\n",
              "      <td>0.0</td>\n",
              "      <td>0.0</td>\n",
              "      <td>0.0</td>\n",
              "      <td>0.0</td>\n",
              "      <td>0.0</td>\n",
              "      <td>0</td>\n",
              "      <td>2017-08-01</td>\n",
              "    </tr>\n",
              "  </tbody>\n",
              "</table>\n",
              "</div>"
            ],
            "text/plain": [
              "  Country                 Facility Name  ...  Tidal (MW)       Date\n",
              "0  Mexico                 Santa Rosalía  ...           0 2017-08-01\n",
              "1  Mexico                        Plamex  ...           0 2017-08-01\n",
              "2  Mexico                         Tirio  ...           0 2017-08-01\n",
              "3  Mexico  Hidroelectrica Cajon de Peña  ...           0 2017-08-01\n",
              "4  Mexico          Papelera Veracruzana  ...           0 2017-08-01\n",
              "\n",
              "[5 rows x 21 columns]"
            ]
          },
          "metadata": {
            "tags": []
          },
          "execution_count": 14
        }
      ]
    },
    {
      "cell_type": "code",
      "metadata": {
        "colab": {
          "base_uri": "https://localhost:8080/"
        },
        "id": "BX4z-OnmbHf_",
        "outputId": "d52fa720-290c-4104-e95b-768334e2f60f"
      },
      "source": [
        "# Check for nan values\n",
        "df.isnull().sum()"
      ],
      "execution_count": 15,
      "outputs": [
        {
          "output_type": "execute_result",
          "data": {
            "text/plain": [
              "Country                               0\n",
              "Facility Name                         0\n",
              "Latitude                              0\n",
              "Longitude                             0\n",
              "City (Site Name)                     83\n",
              "State / Province / Territory          1\n",
              "Total Capacity (MW)                   0\n",
              "Primary Energy Source                 0\n",
              "Coal (MW)                             0\n",
              "Natural Gas (MW)                      0\n",
              "Petroleum (MW)                        0\n",
              "Other Energy Source (MW)              0\n",
              "Hydroelectric (MW)                    0\n",
              "Pumped-Storage Hydroelectric (MW)     0\n",
              "Nuclear (MW)                          0\n",
              "Solar (MW)                            0\n",
              "Wind (MW)                             0\n",
              "Geothermal (MW)                       0\n",
              "Biomass (MW)                          0\n",
              "Tidal (MW)                            0\n",
              "Date                                  0\n",
              "dtype: int64"
            ]
          },
          "metadata": {
            "tags": []
          },
          "execution_count": 15
        }
      ]
    },
    {
      "cell_type": "markdown",
      "metadata": {
        "id": "Nc2Sr8e4fK_H"
      },
      "source": [
        "- Since only city and state columns have some missing values. However, we can use longitude and latitude to generate the map of these sites. We will keep these rows."
      ]
    },
    {
      "cell_type": "code",
      "metadata": {
        "id": "MccDQ6Zhis68"
      },
      "source": [
        "# Clean up few column names\n",
        "df.rename(columns={\"City (Site Name)\": \"City\", \"State / Province / Territory\": \"State\", \"Primary Energy Source\": \"Source\"}, errors=\"raise\", inplace=True)"
      ],
      "execution_count": 16,
      "outputs": []
    },
    {
      "cell_type": "code",
      "metadata": {
        "colab": {
          "base_uri": "https://localhost:8080/"
        },
        "id": "MOOeg4Bpdk2X",
        "outputId": "ac5707e3-3bce-4d13-faa6-8988c5967ff9"
      },
      "source": [
        "# Remaining Column names and data type\n",
        "df.dtypes"
      ],
      "execution_count": 17,
      "outputs": [
        {
          "output_type": "execute_result",
          "data": {
            "text/plain": [
              "Country                                      object\n",
              "Facility Name                                object\n",
              "Latitude                                    float64\n",
              "Longitude                                   float64\n",
              "City                                         object\n",
              "State                                        object\n",
              "Total Capacity (MW)                         float64\n",
              "Source                                       object\n",
              "Coal (MW)                                   float64\n",
              "Natural Gas (MW)                            float64\n",
              "Petroleum (MW)                              float64\n",
              "Other Energy Source (MW)                    float64\n",
              "Hydroelectric (MW)                          float64\n",
              "Pumped-Storage Hydroelectric (MW)           float64\n",
              "Nuclear (MW)                                float64\n",
              "Solar (MW)                                  float64\n",
              "Wind (MW)                                   float64\n",
              "Geothermal (MW)                             float64\n",
              "Biomass (MW)                                float64\n",
              "Tidal (MW)                                    int64\n",
              "Date                                 datetime64[ns]\n",
              "dtype: object"
            ]
          },
          "metadata": {
            "tags": []
          },
          "execution_count": 17
        }
      ]
    },
    {
      "cell_type": "code",
      "metadata": {
        "colab": {
          "base_uri": "https://localhost:8080/"
        },
        "id": "Zd25T-FBlVP7",
        "outputId": "f387f24d-7f2a-4190-95ab-2c71b8a5fa08"
      },
      "source": [
        "df[\"Source\"].value_counts()"
      ],
      "execution_count": 18,
      "outputs": [
        {
          "output_type": "execute_result",
          "data": {
            "text/plain": [
              "Hydroelectric     2037\n",
              "Solar             2034\n",
              "Wind              1284\n",
              "Biomass            846\n",
              "Geothermal          73\n",
              "Pumped Storage      37\n",
              "Natural Gas         29\n",
              "Petroleum           21\n",
              "Coal                 8\n",
              "Other                6\n",
              "Tidal                1\n",
              "Nuclear              1\n",
              "Name: Source, dtype: int64"
            ]
          },
          "metadata": {
            "tags": []
          },
          "execution_count": 18
        }
      ]
    },
    {
      "cell_type": "code",
      "metadata": {
        "colab": {
          "base_uri": "https://localhost:8080/"
        },
        "id": "3jzURBOBeuRO",
        "outputId": "b2a3d3ff-c9d4-4c40-d578-3ed43dabe26d"
      },
      "source": [
        "# Check for duplicates\n",
        "df.duplicated(keep='first').sum()"
      ],
      "execution_count": 19,
      "outputs": [
        {
          "output_type": "execute_result",
          "data": {
            "text/plain": [
              "0"
            ]
          },
          "metadata": {
            "tags": []
          },
          "execution_count": 19
        }
      ]
    },
    {
      "cell_type": "code",
      "metadata": {
        "id": "9Llb6QxsgWh6",
        "colab": {
          "base_uri": "https://localhost:8080/",
          "height": 712
        },
        "outputId": "5b75e455-8439-44e3-af39-346af851c497"
      },
      "source": [
        "# Boxplot\n",
        "plt.figure(figsize=(25,10))\n",
        "sns.boxplot(x='Source'  , y='Total Capacity (MW)'  , data=df)\n",
        "plt.xticks(rotation=90)"
      ],
      "execution_count": 20,
      "outputs": [
        {
          "output_type": "execute_result",
          "data": {
            "text/plain": [
              "(array([ 0,  1,  2,  3,  4,  5,  6,  7,  8,  9, 10, 11]),\n",
              " <a list of 12 Text major ticklabel objects>)"
            ]
          },
          "metadata": {
            "tags": []
          },
          "execution_count": 20
        },
        {
          "output_type": "display_data",
          "data": {
            "image/png": "[encoded data removed]",
            "text/plain": [
              "<Figure size 1800x720 with 1 Axes>"
            ]
          },
          "metadata": {
            "tags": [],
            "needs_background": "light"
          }
        }
      ]
    },
    {
      "cell_type": "markdown",
      "metadata": {
        "id": "4XKbXLLbn446"
      },
      "source": [
        "- As we see, most of power plants have capacity within a close range, except Hydroelectric power plants. The capacity of hydroelectric power plants are 27MW in average but can be as large as 6495 MW."
      ]
    },
    {
      "cell_type": "code",
      "metadata": {
        "colab": {
          "base_uri": "https://localhost:8080/"
        },
        "id": "ey3u2VY_korj",
        "outputId": "514247f0-7bf2-4909-a97e-769bb20d4c9f"
      },
      "source": [
        "df[\"Hydroelectric (MW)\"].describe()"
      ],
      "execution_count": 21,
      "outputs": [
        {
          "output_type": "execute_result",
          "data": {
            "text/plain": [
              "count    6377.000000\n",
              "mean       27.031018\n",
              "std       190.889000\n",
              "min         0.000000\n",
              "25%         0.000000\n",
              "50%         0.000000\n",
              "75%         2.900000\n",
              "max      6495.000000\n",
              "Name: Hydroelectric (MW), dtype: float64"
            ]
          },
          "metadata": {
            "tags": []
          },
          "execution_count": 21
        }
      ]
    },
    {
      "cell_type": "markdown",
      "metadata": {
        "id": "i0z11nEmpBKs"
      },
      "source": [
        "# Data Exploration & Visualizations"
      ]
    },
    {
      "cell_type": "code",
      "metadata": {
        "colab": {
          "base_uri": "https://localhost:8080/"
        },
        "id": "iIUUrQwtnm1T",
        "outputId": "dde719d2-3bd2-4ced-a369-556e5e01a1b5"
      },
      "source": [
        "df.dtypes"
      ],
      "execution_count": 22,
      "outputs": [
        {
          "output_type": "execute_result",
          "data": {
            "text/plain": [
              "Country                                      object\n",
              "Facility Name                                object\n",
              "Latitude                                    float64\n",
              "Longitude                                   float64\n",
              "City                                         object\n",
              "State                                        object\n",
              "Total Capacity (MW)                         float64\n",
              "Source                                       object\n",
              "Coal (MW)                                   float64\n",
              "Natural Gas (MW)                            float64\n",
              "Petroleum (MW)                              float64\n",
              "Other Energy Source (MW)                    float64\n",
              "Hydroelectric (MW)                          float64\n",
              "Pumped-Storage Hydroelectric (MW)           float64\n",
              "Nuclear (MW)                                float64\n",
              "Solar (MW)                                  float64\n",
              "Wind (MW)                                   float64\n",
              "Geothermal (MW)                             float64\n",
              "Biomass (MW)                                float64\n",
              "Tidal (MW)                                    int64\n",
              "Date                                 datetime64[ns]\n",
              "dtype: object"
            ]
          },
          "metadata": {
            "tags": []
          },
          "execution_count": 22
        }
      ]
    },
    {
      "cell_type": "code",
      "metadata": {
        "colab": {
          "base_uri": "https://localhost:8080/"
        },
        "id": "i-rd3CotphHR",
        "outputId": "fdd8c1c9-d612-4f19-af99-718c525b5ccb"
      },
      "source": [
        "print(df[\"Date\"].max(), \",\" , df[\"Date\"].min())"
      ],
      "execution_count": 23,
      "outputs": [
        {
          "output_type": "stream",
          "text": [
            "2017-08-01 00:00:00 , 2000-10-01 00:00:00\n"
          ],
          "name": "stdout"
        }
      ]
    },
    {
      "cell_type": "markdown",
      "metadata": {
        "id": "HL6rz2fSq3zY"
      },
      "source": [
        "### 1. Capacity by Country"
      ]
    },
    {
      "cell_type": "code",
      "metadata": {
        "id": "FhLYle1npEVw"
      },
      "source": [
        "country_capacity = df.groupby([\"Country\", \"State\"]).agg(\n",
        "        country_capacity_sum=pd.NamedAgg(column='Total Capacity (MW)', aggfunc='sum'),\n",
        "        country_capacity_max=pd.NamedAgg(column='Total Capacity (MW)', aggfunc='max'),\n",
        "        country_capacity_cnt=pd.NamedAgg(column='Total Capacity (MW)', aggfunc='count')\n",
        "    )"
      ],
      "execution_count": 24,
      "outputs": []
    },
    {
      "cell_type": "code",
      "metadata": {
        "id": "bgRpiqdgudGs"
      },
      "source": [
        "country_capacity[\"Contribution (%)\"] = country_capacity[\"country_capacity_sum\"] / country_capacity[\"country_capacity_sum\"].sum()"
      ],
      "execution_count": 25,
      "outputs": []
    },
    {
      "cell_type": "code",
      "metadata": {
        "colab": {
          "base_uri": "https://localhost:8080/",
          "height": 435
        },
        "id": "ZNPK1roGvGAE",
        "outputId": "d6f58cca-0eda-46d7-a211-34415962cc3d"
      },
      "source": [
        "country_capacity"
      ],
      "execution_count": 26,
      "outputs": [
        {
          "output_type": "execute_result",
          "data": {
            "text/html": [
              "<div>\n",
              "<style scoped>\n",
              "    .dataframe tbody tr th:only-of-type {\n",
              "        vertical-align: middle;\n",
              "    }\n",
              "\n",
              "    .dataframe tbody tr th {\n",
              "        vertical-align: top;\n",
              "    }\n",
              "\n",
              "    .dataframe thead th {\n",
              "        text-align: right;\n",
              "    }\n",
              "</style>\n",
              "<table border=\"1\" class=\"dataframe\">\n",
              "  <thead>\n",
              "    <tr style=\"text-align: right;\">\n",
              "      <th></th>\n",
              "      <th></th>\n",
              "      <th>country_capacity_sum</th>\n",
              "      <th>country_capacity_max</th>\n",
              "      <th>country_capacity_cnt</th>\n",
              "      <th>Contribution (%)</th>\n",
              "    </tr>\n",
              "    <tr>\n",
              "      <th>Country</th>\n",
              "      <th>State</th>\n",
              "      <th></th>\n",
              "      <th></th>\n",
              "      <th></th>\n",
              "      <th></th>\n",
              "    </tr>\n",
              "  </thead>\n",
              "  <tbody>\n",
              "    <tr>\n",
              "      <th rowspan=\"5\" valign=\"top\">Canada</th>\n",
              "      <th>Alberta</th>\n",
              "      <td>2772.9</td>\n",
              "      <td>355.0</td>\n",
              "      <td>64</td>\n",
              "      <td>0.007836</td>\n",
              "    </tr>\n",
              "    <tr>\n",
              "      <th>British Columbia</th>\n",
              "      <td>17642.6</td>\n",
              "      <td>2746.0</td>\n",
              "      <td>167</td>\n",
              "      <td>0.049855</td>\n",
              "    </tr>\n",
              "    <tr>\n",
              "      <th>Manitoba</th>\n",
              "      <td>5509.4</td>\n",
              "      <td>1350.0</td>\n",
              "      <td>18</td>\n",
              "      <td>0.015569</td>\n",
              "    </tr>\n",
              "    <tr>\n",
              "      <th>New Brunswick</th>\n",
              "      <td>1378.5</td>\n",
              "      <td>668.0</td>\n",
              "      <td>18</td>\n",
              "      <td>0.003895</td>\n",
              "    </tr>\n",
              "    <tr>\n",
              "      <th>Newfoundland and Labrador</th>\n",
              "      <td>7028.1</td>\n",
              "      <td>5428.0</td>\n",
              "      <td>36</td>\n",
              "      <td>0.019860</td>\n",
              "    </tr>\n",
              "    <tr>\n",
              "      <th>...</th>\n",
              "      <th>...</th>\n",
              "      <td>...</td>\n",
              "      <td>...</td>\n",
              "      <td>...</td>\n",
              "      <td>...</td>\n",
              "    </tr>\n",
              "    <tr>\n",
              "      <th rowspan=\"5\" valign=\"top\">United States</th>\n",
              "      <th>Virginia</th>\n",
              "      <td>7141.7</td>\n",
              "      <td>2862.0</td>\n",
              "      <td>66</td>\n",
              "      <td>0.020181</td>\n",
              "    </tr>\n",
              "    <tr>\n",
              "      <th>Washington</th>\n",
              "      <td>25000.3</td>\n",
              "      <td>6809.0</td>\n",
              "      <td>111</td>\n",
              "      <td>0.070647</td>\n",
              "    </tr>\n",
              "    <tr>\n",
              "      <th>West Virginia</th>\n",
              "      <td>1088.9</td>\n",
              "      <td>264.0</td>\n",
              "      <td>18</td>\n",
              "      <td>0.003077</td>\n",
              "    </tr>\n",
              "    <tr>\n",
              "      <th>Wisconsin</th>\n",
              "      <td>1967.5</td>\n",
              "      <td>188.0</td>\n",
              "      <td>114</td>\n",
              "      <td>0.005560</td>\n",
              "    </tr>\n",
              "    <tr>\n",
              "      <th>Wyoming</th>\n",
              "      <td>1790.7</td>\n",
              "      <td>200.0</td>\n",
              "      <td>37</td>\n",
              "      <td>0.005060</td>\n",
              "    </tr>\n",
              "  </tbody>\n",
              "</table>\n",
              "<p>85 rows × 4 columns</p>\n",
              "</div>"
            ],
            "text/plain": [
              "                                         country_capacity_sum  ...  Contribution (%)\n",
              "Country       State                                            ...                  \n",
              "Canada        Alberta                                  2772.9  ...          0.007836\n",
              "              British Columbia                        17642.6  ...          0.049855\n",
              "              Manitoba                                 5509.4  ...          0.015569\n",
              "              New Brunswick                            1378.5  ...          0.003895\n",
              "              Newfoundland and Labrador                7028.1  ...          0.019860\n",
              "...                                                       ...  ...               ...\n",
              "United States Virginia                                 7141.7  ...          0.020181\n",
              "              Washington                              25000.3  ...          0.070647\n",
              "              West Virginia                            1088.9  ...          0.003077\n",
              "              Wisconsin                                1967.5  ...          0.005560\n",
              "              Wyoming                                  1790.7  ...          0.005060\n",
              "\n",
              "[85 rows x 4 columns]"
            ]
          },
          "metadata": {
            "tags": []
          },
          "execution_count": 26
        }
      ]
    },
    {
      "cell_type": "code",
      "metadata": {
        "id": "NLxsgzryybgs"
      },
      "source": [
        "capacity_by_country = country_capacity.groupby(\"Country\")[\"country_capacity_sum\"].sum()"
      ],
      "execution_count": 27,
      "outputs": []
    },
    {
      "cell_type": "code",
      "metadata": {
        "colab": {
          "base_uri": "https://localhost:8080/",
          "height": 594
        },
        "id": "4B6ZEIh2zLqz",
        "outputId": "2858b9f3-db03-4848-c2ed-6898dafc6758"
      },
      "source": [
        "#Using matplotlib\n",
        "pie, ax = plt.subplots(figsize=[20,10])\n",
        "labels = capacity_by_country.keys()\n",
        "plt.pie(x=capacity_by_country, autopct=\"%.1f%%\",  labels=labels, pctdistance=0.5)\n",
        "plt.title(\"Capacity by Country\", fontsize=18);\n",
        "# pie.savefig(\"DeliveryPieChart.png\")"
      ],
      "execution_count": 28,
      "outputs": [
        {
          "output_type": "display_data",
          "data": {
            "image/png": "[encoded data removed]",
            "text/plain": [
              "<Figure size 1440x720 with 1 Axes>"
            ]
          },
          "metadata": {
            "tags": []
          }
        }
      ]
    },
    {
      "cell_type": "code",
      "metadata": {
        "colab": {
          "base_uri": "https://localhost:8080/"
        },
        "id": "SyADMsuizC9L",
        "outputId": "23cc786d-feee-45e9-c750-86589ea8182b"
      },
      "source": [
        "capacity_by_country"
      ],
      "execution_count": 29,
      "outputs": [
        {
          "output_type": "execute_result",
          "data": {
            "text/plain": [
              "Country\n",
              "Canada            97298.8\n",
              "Mexico            16823.0\n",
              "United States    239756.6\n",
              "Name: country_capacity_sum, dtype: float64"
            ]
          },
          "metadata": {
            "tags": []
          },
          "execution_count": 29
        }
      ]
    },
    {
      "cell_type": "markdown",
      "metadata": {
        "id": "qeWbKGLd3R1e"
      },
      "source": [
        "### 2. Capacity by State for Each Country"
      ]
    },
    {
      "cell_type": "code",
      "metadata": {
        "id": "46Ew3mY1xE76"
      },
      "source": [
        "# Canada\n",
        "canada_data = country_capacity.loc['Canada', :]"
      ],
      "execution_count": 30,
      "outputs": []
    },
    {
      "cell_type": "code",
      "metadata": {
        "colab": {
          "base_uri": "https://localhost:8080/",
          "height": 227
        },
        "id": "P7wxhqg34x0u",
        "outputId": "4a23c51a-386d-4f79-f465-d54e084eb189"
      },
      "source": [
        "canada_data_sorted= canada_data.sort_values('country_capacity_sum', ascending=True)\n",
        "canada_data_sorted.tail()"
      ],
      "execution_count": 57,
      "outputs": [
        {
          "output_type": "execute_result",
          "data": {
            "text/html": [
              "<div>\n",
              "<style scoped>\n",
              "    .dataframe tbody tr th:only-of-type {\n",
              "        vertical-align: middle;\n",
              "    }\n",
              "\n",
              "    .dataframe tbody tr th {\n",
              "        vertical-align: top;\n",
              "    }\n",
              "\n",
              "    .dataframe thead th {\n",
              "        text-align: right;\n",
              "    }\n",
              "</style>\n",
              "<table border=\"1\" class=\"dataframe\">\n",
              "  <thead>\n",
              "    <tr style=\"text-align: right;\">\n",
              "      <th></th>\n",
              "      <th>country_capacity_sum</th>\n",
              "      <th>country_capacity_max</th>\n",
              "      <th>country_capacity_cnt</th>\n",
              "      <th>Contribution (%)</th>\n",
              "    </tr>\n",
              "    <tr>\n",
              "      <th>State</th>\n",
              "      <th></th>\n",
              "      <th></th>\n",
              "      <th></th>\n",
              "      <th></th>\n",
              "    </tr>\n",
              "  </thead>\n",
              "  <tbody>\n",
              "    <tr>\n",
              "      <th>Manitoba</th>\n",
              "      <td>5509.4</td>\n",
              "      <td>1350.0</td>\n",
              "      <td>18</td>\n",
              "      <td>0.015569</td>\n",
              "    </tr>\n",
              "    <tr>\n",
              "      <th>Newfoundland and Labrador</th>\n",
              "      <td>7028.1</td>\n",
              "      <td>5428.0</td>\n",
              "      <td>36</td>\n",
              "      <td>0.019860</td>\n",
              "    </tr>\n",
              "    <tr>\n",
              "      <th>Ontario</th>\n",
              "      <td>15996.0</td>\n",
              "      <td>1499.0</td>\n",
              "      <td>411</td>\n",
              "      <td>0.045202</td>\n",
              "    </tr>\n",
              "    <tr>\n",
              "      <th>British Columbia</th>\n",
              "      <td>17642.6</td>\n",
              "      <td>2746.0</td>\n",
              "      <td>167</td>\n",
              "      <td>0.049855</td>\n",
              "    </tr>\n",
              "    <tr>\n",
              "      <th>Québec</th>\n",
              "      <td>44402.1</td>\n",
              "      <td>5616.0</td>\n",
              "      <td>205</td>\n",
              "      <td>0.125473</td>\n",
              "    </tr>\n",
              "  </tbody>\n",
              "</table>\n",
              "</div>"
            ],
            "text/plain": [
              "                           country_capacity_sum  ...  Contribution (%)\n",
              "State                                            ...                  \n",
              "Manitoba                                 5509.4  ...          0.015569\n",
              "Newfoundland and Labrador                7028.1  ...          0.019860\n",
              "Ontario                                 15996.0  ...          0.045202\n",
              "British Columbia                        17642.6  ...          0.049855\n",
              "Québec                                  44402.1  ...          0.125473\n",
              "\n",
              "[5 rows x 4 columns]"
            ]
          },
          "metadata": {
            "tags": []
          },
          "execution_count": 57
        }
      ]
    },
    {
      "cell_type": "code",
      "metadata": {
        "colab": {
          "base_uri": "https://localhost:8080/",
          "height": 681
        },
        "id": "EVvi5n967A3k",
        "outputId": "e395247b-c5c3-4d5e-9979-7ad88754b0af"
      },
      "source": [
        "# bar plot with matplotlib\n",
        "\n",
        "plt.figure(figsize=(15,10))\n",
        "plt.barh(canada_data_sorted.index, 'country_capacity_sum',data=canada_data_sorted)\n",
        "plt.xlabel(\"Capacity (MW)\", size=15)\n",
        "plt.xticks(fontsize=14, rotation=90)\n",
        "plt.yticks(fontsize=14)\n",
        "plt.ylabel(\"State\", size=15)\n",
        "plt.title(\"Total Capacity by State\", size=18)\n",
        "# plt.savefig(\"bar_plot_matplotlib_ascending_order_Python.png\")"
      ],
      "execution_count": 56,
      "outputs": [
        {
          "output_type": "execute_result",
          "data": {
            "text/plain": [
              "Text(0.5, 1.0, 'Total Capacity by State')"
            ]
          },
          "metadata": {
            "tags": []
          },
          "execution_count": 56
        },
        {
          "output_type": "display_data",
          "data": {
            "image/png": "[encoded data removed]",
            "text/plain": [
              "<Figure size 1080x720 with 1 Axes>"
            ]
          },
          "metadata": {
            "tags": [],
            "needs_background": "light"
          }
        }
      ]
    },
    {
      "cell_type": "code",
      "metadata": {
        "id": "NoCbVPpS3eA4"
      },
      "source": [
        "# US\n",
        "US_data = country_capacity.loc['United States', :] "
      ],
      "execution_count": 33,
      "outputs": []
    },
    {
      "cell_type": "code",
      "metadata": {
        "colab": {
          "base_uri": "https://localhost:8080/",
          "height": 227
        },
        "id": "hE-W1dR39a8F",
        "outputId": "c7841227-663d-47d4-b990-45cfe9fc34e1"
      },
      "source": [
        "US_data_sorted= US_data.sort_values('country_capacity_sum', ascending=True)\n",
        "US_data_sorted.head()"
      ],
      "execution_count": 34,
      "outputs": [
        {
          "output_type": "execute_result",
          "data": {
            "text/html": [
              "<div>\n",
              "<style scoped>\n",
              "    .dataframe tbody tr th:only-of-type {\n",
              "        vertical-align: middle;\n",
              "    }\n",
              "\n",
              "    .dataframe tbody tr th {\n",
              "        vertical-align: top;\n",
              "    }\n",
              "\n",
              "    .dataframe thead th {\n",
              "        text-align: right;\n",
              "    }\n",
              "</style>\n",
              "<table border=\"1\" class=\"dataframe\">\n",
              "  <thead>\n",
              "    <tr style=\"text-align: right;\">\n",
              "      <th></th>\n",
              "      <th>country_capacity_sum</th>\n",
              "      <th>country_capacity_max</th>\n",
              "      <th>country_capacity_cnt</th>\n",
              "      <th>Contribution (%)</th>\n",
              "    </tr>\n",
              "    <tr>\n",
              "      <th>State</th>\n",
              "      <th></th>\n",
              "      <th></th>\n",
              "      <th></th>\n",
              "      <th></th>\n",
              "    </tr>\n",
              "  </thead>\n",
              "  <tbody>\n",
              "    <tr>\n",
              "      <th>Delaware</th>\n",
              "      <td>46.5</td>\n",
              "      <td>11.8</td>\n",
              "      <td>12</td>\n",
              "      <td>0.000131</td>\n",
              "    </tr>\n",
              "    <tr>\n",
              "      <th>Rhode Island</th>\n",
              "      <td>105.9</td>\n",
              "      <td>34.0</td>\n",
              "      <td>20</td>\n",
              "      <td>0.000299</td>\n",
              "    </tr>\n",
              "    <tr>\n",
              "      <th>Mississippi</th>\n",
              "      <td>302.5</td>\n",
              "      <td>128.6</td>\n",
              "      <td>7</td>\n",
              "      <td>0.000855</td>\n",
              "    </tr>\n",
              "    <tr>\n",
              "      <th>Connecticut</th>\n",
              "      <td>453.1</td>\n",
              "      <td>90.0</td>\n",
              "      <td>34</td>\n",
              "      <td>0.001280</td>\n",
              "    </tr>\n",
              "    <tr>\n",
              "      <th>Alaska</th>\n",
              "      <td>597.9</td>\n",
              "      <td>126.0</td>\n",
              "      <td>36</td>\n",
              "      <td>0.001690</td>\n",
              "    </tr>\n",
              "  </tbody>\n",
              "</table>\n",
              "</div>"
            ],
            "text/plain": [
              "              country_capacity_sum  ...  Contribution (%)\n",
              "State                               ...                  \n",
              "Delaware                      46.5  ...          0.000131\n",
              "Rhode Island                 105.9  ...          0.000299\n",
              "Mississippi                  302.5  ...          0.000855\n",
              "Connecticut                  453.1  ...          0.001280\n",
              "Alaska                       597.9  ...          0.001690\n",
              "\n",
              "[5 rows x 4 columns]"
            ]
          },
          "metadata": {
            "tags": []
          },
          "execution_count": 34
        }
      ]
    },
    {
      "cell_type": "code",
      "metadata": {
        "colab": {
          "base_uri": "https://localhost:8080/",
          "height": 1000
        },
        "id": "Ee6W5N439laT",
        "outputId": "6d7ce4e3-4d18-4a15-bff7-668f66f32952"
      },
      "source": [
        "# bar plot with matplotlib\n",
        "\n",
        "plt.figure(figsize=(15,20))\n",
        "plt.barh(US_data_sorted.index, 'country_capacity_sum',data=US_data_sorted)\n",
        "plt.xlabel(\"Capacity (MW)\", size=15)\n",
        "plt.xticks(fontsize=14, rotation=90)\n",
        "plt.yticks(fontsize=14)\n",
        "plt.ylabel(\"State\", size=15)\n",
        "plt.title(\"Total Capacity by State\", size=18)\n",
        "# plt.savefig(\"bar_plot_matplotlib_ascending_order_Python.png\")"
      ],
      "execution_count": 35,
      "outputs": [
        {
          "output_type": "execute_result",
          "data": {
            "text/plain": [
              "Text(0.5, 1.0, 'Total Capacity by State')"
            ]
          },
          "metadata": {
            "tags": []
          },
          "execution_count": 35
        },
        {
          "output_type": "display_data",
          "data": {
            "image/png": "[encoded data removed]",
            "text/plain": [
              "<Figure size 1080x1440 with 1 Axes>"
            ]
          },
          "metadata": {
            "tags": [],
            "needs_background": "light"
          }
        }
      ]
    },
    {
      "cell_type": "code",
      "metadata": {
        "id": "n-SvpxHG9tA0"
      },
      "source": [
        "# Mexico\n",
        "Mexico_data = country_capacity.loc['Mexico', :]"
      ],
      "execution_count": 36,
      "outputs": []
    },
    {
      "cell_type": "code",
      "metadata": {
        "colab": {
          "base_uri": "https://localhost:8080/",
          "height": 227
        },
        "id": "xlKSDe7V-VkS",
        "outputId": "36edd809-3d9f-4262-af31-1052bffbcbce"
      },
      "source": [
        "Mexico_data_sorted= Mexico_data.sort_values('country_capacity_sum', ascending=True)\n",
        "Mexico_data_sorted.head()"
      ],
      "execution_count": 37,
      "outputs": [
        {
          "output_type": "execute_result",
          "data": {
            "text/html": [
              "<div>\n",
              "<style scoped>\n",
              "    .dataframe tbody tr th:only-of-type {\n",
              "        vertical-align: middle;\n",
              "    }\n",
              "\n",
              "    .dataframe tbody tr th {\n",
              "        vertical-align: top;\n",
              "    }\n",
              "\n",
              "    .dataframe thead th {\n",
              "        text-align: right;\n",
              "    }\n",
              "</style>\n",
              "<table border=\"1\" class=\"dataframe\">\n",
              "  <thead>\n",
              "    <tr style=\"text-align: right;\">\n",
              "      <th></th>\n",
              "      <th>country_capacity_sum</th>\n",
              "      <th>country_capacity_max</th>\n",
              "      <th>country_capacity_cnt</th>\n",
              "      <th>Contribution (%)</th>\n",
              "    </tr>\n",
              "    <tr>\n",
              "      <th>State</th>\n",
              "      <th></th>\n",
              "      <th></th>\n",
              "      <th></th>\n",
              "      <th></th>\n",
              "    </tr>\n",
              "  </thead>\n",
              "  <tbody>\n",
              "    <tr>\n",
              "      <th>Quintana Roo</th>\n",
              "      <td>1.5</td>\n",
              "      <td>1.5</td>\n",
              "      <td>1</td>\n",
              "      <td>0.000004</td>\n",
              "    </tr>\n",
              "    <tr>\n",
              "      <th>Guanajuato</th>\n",
              "      <td>2.5</td>\n",
              "      <td>2.5</td>\n",
              "      <td>1</td>\n",
              "      <td>0.000007</td>\n",
              "    </tr>\n",
              "    <tr>\n",
              "      <th>Ciudad de México</th>\n",
              "      <td>6.6</td>\n",
              "      <td>6.6</td>\n",
              "      <td>1</td>\n",
              "      <td>0.000019</td>\n",
              "    </tr>\n",
              "    <tr>\n",
              "      <th>Chihuahua</th>\n",
              "      <td>28.0</td>\n",
              "      <td>25.0</td>\n",
              "      <td>2</td>\n",
              "      <td>0.000079</td>\n",
              "    </tr>\n",
              "    <tr>\n",
              "      <th>Baja California Sur</th>\n",
              "      <td>41.0</td>\n",
              "      <td>30.0</td>\n",
              "      <td>3</td>\n",
              "      <td>0.000116</td>\n",
              "    </tr>\n",
              "  </tbody>\n",
              "</table>\n",
              "</div>"
            ],
            "text/plain": [
              "                     country_capacity_sum  ...  Contribution (%)\n",
              "State                                      ...                  \n",
              "Quintana Roo                          1.5  ...          0.000004\n",
              "Guanajuato                            2.5  ...          0.000007\n",
              "Ciudad de México                      6.6  ...          0.000019\n",
              "Chihuahua                            28.0  ...          0.000079\n",
              "Baja California Sur                  41.0  ...          0.000116\n",
              "\n",
              "[5 rows x 4 columns]"
            ]
          },
          "metadata": {
            "tags": []
          },
          "execution_count": 37
        }
      ]
    },
    {
      "cell_type": "code",
      "metadata": {
        "colab": {
          "base_uri": "https://localhost:8080/",
          "height": 944
        },
        "id": "v1j0Ugtl-cKD",
        "outputId": "928bfbd8-05a6-4690-bdf2-01b475d79c52"
      },
      "source": [
        "# bar plot with matplotlib\n",
        "\n",
        "plt.figure(figsize=(15,15))\n",
        "plt.barh(Mexico_data_sorted.index, 'country_capacity_sum',data=Mexico_data_sorted)\n",
        "plt.xlabel(\"Capacity (MW)\", size=15)\n",
        "plt.xticks(fontsize=14, rotation=90)\n",
        "plt.yticks(fontsize=14)\n",
        "plt.ylabel(\"State\", size=15)\n",
        "plt.title(\"Total Capacity by State\", size=18)\n",
        "# plt.savefig(\"bar_plot_matplotlib_ascending_order_Python.png\")"
      ],
      "execution_count": 38,
      "outputs": [
        {
          "output_type": "execute_result",
          "data": {
            "text/plain": [
              "Text(0.5, 1.0, 'Total Capacity by State')"
            ]
          },
          "metadata": {
            "tags": []
          },
          "execution_count": 38
        },
        {
          "output_type": "display_data",
          "data": {
            "image/png": "[encoded data removed]",
            "text/plain": [
              "<Figure size 1080x1080 with 1 Axes>"
            ]
          },
          "metadata": {
            "tags": [],
            "needs_background": "light"
          }
        }
      ]
    },
    {
      "cell_type": "markdown",
      "metadata": {
        "id": "cI0WZplt_A03"
      },
      "source": [
        "### 3. Capacity by Source for Each Country"
      ]
    },
    {
      "cell_type": "code",
      "metadata": {
        "id": "UChfjUw2_2kI"
      },
      "source": [
        "df_pivot = pd.pivot_table(\n",
        "    df, \n",
        "    values=\"Total Capacity (MW)\",\n",
        "    index=\"Source\",\n",
        "    columns=\"Country\", \n",
        "    aggfunc=np.sum\n",
        ")"
      ],
      "execution_count": 39,
      "outputs": []
    },
    {
      "cell_type": "code",
      "metadata": {
        "id": "JxdIHtb3Auzg"
      },
      "source": [
        "df_pivot_sorted = df_pivot.sort_values('United States', ascending=False)\n",
        "df_pivot_sorted_T = df_pivot_sorted.transpose()"
      ],
      "execution_count": 40,
      "outputs": []
    },
    {
      "cell_type": "code",
      "metadata": {
        "colab": {
          "base_uri": "https://localhost:8080/",
          "height": 701
        },
        "id": "Uze_3C_FAvln",
        "outputId": "41143188-1808-4304-c095-ddebc9005e81"
      },
      "source": [
        "# Plot a bar chart using the DF\n",
        "ax = df_pivot_sorted_T.plot(kind=\"bar\")\n",
        "# Get a Matplotlib figure from the axes object for formatting purposes\n",
        "fig = ax.get_figure()\n",
        "# Change the plot dimensions (width, height)\n",
        "fig.set_size_inches(15,10)\n",
        "# Change the axes labels\n",
        "ax.set_xlabel(\"Country\", size = 14)\n",
        "ax.set_ylabel(\"Capacity(MW)\", size = 14)\n",
        "ax.set_title(\"Capacity by Source\", size=15)"
      ],
      "execution_count": 41,
      "outputs": [
        {
          "output_type": "execute_result",
          "data": {
            "text/plain": [
              "Text(0.5, 1.0, 'Capacity by Source')"
            ]
          },
          "metadata": {
            "tags": []
          },
          "execution_count": 41
        },
        {
          "output_type": "display_data",
          "data": {
            "image/png": "[encoded data removed]",
            "text/plain": [
              "<Figure size 1080x720 with 1 Axes>"
            ]
          },
          "metadata": {
            "tags": [],
            "needs_background": "light"
          }
        }
      ]
    },
    {
      "cell_type": "markdown",
      "metadata": {
        "id": "tePq2I9lDMer"
      },
      "source": [
        "### 4. Capacity by Source for each State"
      ]
    },
    {
      "cell_type": "code",
      "metadata": {
        "id": "6m4xR3LiD0C_"
      },
      "source": [
        "# Canada\n",
        "canada_df = df.loc[df['Country'] == 'Canada']"
      ],
      "execution_count": 74,
      "outputs": []
    },
    {
      "cell_type": "code",
      "metadata": {
        "id": "K9PbUJcCBa9H"
      },
      "source": [
        "canada_state_pivot = pd.pivot_table(\n",
        "    canada_df, \n",
        "    values=\"Total Capacity (MW)\",\n",
        "    index=\"Source\",\n",
        "    columns=\"State\", \n",
        "    aggfunc=np.sum\n",
        ")"
      ],
      "execution_count": 86,
      "outputs": []
    },
    {
      "cell_type": "code",
      "metadata": {
        "id": "cYppGdkZEcC_"
      },
      "source": [
        "canada_state_pivot_sorted = canada_state_pivot.sort_values('Ontario', ascending=False)\n",
        "canada_state_pivot_sorted_T = canada_state_pivot_sorted.transpose()"
      ],
      "execution_count": 88,
      "outputs": []
    },
    {
      "cell_type": "code",
      "metadata": {
        "colab": {
          "base_uri": "https://localhost:8080/",
          "height": 776
        },
        "id": "HlYPAqXvC1a4",
        "outputId": "b73becae-e689-483d-887b-77ec10f59b0b"
      },
      "source": [
        "# Plot a bar chart using the DF\n",
        "ax = canada_state_pivot_sorted_T.plot(kind=\"bar\")\n",
        "# Get a Matplotlib figure from the axes object for formatting purposes\n",
        "fig = ax.get_figure()\n",
        "# Change the plot dimensions (width, height)\n",
        "fig.set_size_inches(15,10)\n",
        "# Change the axes labels\n",
        "ax.set_xlabel(\"Country\", size = 14)\n",
        "ax.set_ylabel(\"Capacity(MW)\", size = 14)\n",
        "ax.set_title(\"Capacity by Source - Canada\", size=15)"
      ],
      "execution_count": 89,
      "outputs": [
        {
          "output_type": "execute_result",
          "data": {
            "text/plain": [
              "Text(0.5, 1.0, 'Capacity by Source - Canada')"
            ]
          },
          "metadata": {
            "tags": []
          },
          "execution_count": 89
        },
        {
          "output_type": "display_data",
          "data": {
            "image/png": "[encoded data removed]",
            "text/plain": [
              "<Figure size 1080x720 with 1 Axes>"
            ]
          },
          "metadata": {
            "tags": [],
            "needs_background": "light"
          }
        }
      ]
    },
    {
      "cell_type": "code",
      "metadata": {
        "id": "lUKN1kQXDJHN"
      },
      "source": [
        "# US\n",
        "US_df = df.loc[df['Country'] == 'United States']"
      ],
      "execution_count": 91,
      "outputs": []
    },
    {
      "cell_type": "code",
      "metadata": {
        "colab": {
          "base_uri": "https://localhost:8080/",
          "height": 316
        },
        "id": "CaaTP1jdHjui",
        "outputId": "c47cace9-1647-455b-a9aa-bfa79aab12b2"
      },
      "source": [
        "US_df_sorted = US_df.sort_values('Total Capacity (MW)', ascending=False)\n",
        "US_df_sorted_top20 = US_df_sorted.iloc[:20, :]\n",
        "US_df_sorted_top20.head()"
      ],
      "execution_count": 108,
      "outputs": [
        {
          "output_type": "execute_result",
          "data": {
            "text/html": [
              "<div>\n",
              "<style scoped>\n",
              "    .dataframe tbody tr th:only-of-type {\n",
              "        vertical-align: middle;\n",
              "    }\n",
              "\n",
              "    .dataframe tbody tr th {\n",
              "        vertical-align: top;\n",
              "    }\n",
              "\n",
              "    .dataframe thead th {\n",
              "        text-align: right;\n",
              "    }\n",
              "</style>\n",
              "<table border=\"1\" class=\"dataframe\">\n",
              "  <thead>\n",
              "    <tr style=\"text-align: right;\">\n",
              "      <th></th>\n",
              "      <th>Country</th>\n",
              "      <th>Facility Name</th>\n",
              "      <th>Latitude</th>\n",
              "      <th>Longitude</th>\n",
              "      <th>City</th>\n",
              "      <th>State</th>\n",
              "      <th>Total Capacity (MW)</th>\n",
              "      <th>Source</th>\n",
              "      <th>Coal (MW)</th>\n",
              "      <th>Natural Gas (MW)</th>\n",
              "      <th>Petroleum (MW)</th>\n",
              "      <th>Other Energy Source (MW)</th>\n",
              "      <th>Hydroelectric (MW)</th>\n",
              "      <th>Pumped-Storage Hydroelectric (MW)</th>\n",
              "      <th>Nuclear (MW)</th>\n",
              "      <th>Solar (MW)</th>\n",
              "      <th>Wind (MW)</th>\n",
              "      <th>Geothermal (MW)</th>\n",
              "      <th>Biomass (MW)</th>\n",
              "      <th>Tidal (MW)</th>\n",
              "      <th>Date</th>\n",
              "    </tr>\n",
              "  </thead>\n",
              "  <tbody>\n",
              "    <tr>\n",
              "      <th>1916</th>\n",
              "      <td>United States</td>\n",
              "      <td>Grand Coulee</td>\n",
              "      <td>47.957511</td>\n",
              "      <td>-118.977323</td>\n",
              "      <td>Grand Coulee</td>\n",
              "      <td>Washington</td>\n",
              "      <td>6809.0</td>\n",
              "      <td>Hydroelectric</td>\n",
              "      <td>0.0</td>\n",
              "      <td>0.0</td>\n",
              "      <td>0.0</td>\n",
              "      <td>0.0</td>\n",
              "      <td>6495.0</td>\n",
              "      <td>314.0</td>\n",
              "      <td>0.0</td>\n",
              "      <td>0.0</td>\n",
              "      <td>0.0</td>\n",
              "      <td>0.0</td>\n",
              "      <td>0.0</td>\n",
              "      <td>0</td>\n",
              "      <td>2017-05-01</td>\n",
              "    </tr>\n",
              "    <tr>\n",
              "      <th>413</th>\n",
              "      <td>United States</td>\n",
              "      <td>Bath County</td>\n",
              "      <td>38.208890</td>\n",
              "      <td>-79.800000</td>\n",
              "      <td>Warm Springs</td>\n",
              "      <td>Virginia</td>\n",
              "      <td>2862.0</td>\n",
              "      <td>Pumped Storage</td>\n",
              "      <td>0.0</td>\n",
              "      <td>0.0</td>\n",
              "      <td>0.0</td>\n",
              "      <td>0.0</td>\n",
              "      <td>0.0</td>\n",
              "      <td>2862.0</td>\n",
              "      <td>0.0</td>\n",
              "      <td>0.0</td>\n",
              "      <td>0.0</td>\n",
              "      <td>0.0</td>\n",
              "      <td>0.0</td>\n",
              "      <td>0</td>\n",
              "      <td>2017-05-01</td>\n",
              "    </tr>\n",
              "    <tr>\n",
              "      <th>953</th>\n",
              "      <td>United States</td>\n",
              "      <td>Chief Joseph</td>\n",
              "      <td>47.995100</td>\n",
              "      <td>-119.640400</td>\n",
              "      <td>Bridgeport</td>\n",
              "      <td>Washington</td>\n",
              "      <td>2456.2</td>\n",
              "      <td>Hydroelectric</td>\n",
              "      <td>0.0</td>\n",
              "      <td>0.0</td>\n",
              "      <td>0.0</td>\n",
              "      <td>0.0</td>\n",
              "      <td>2456.2</td>\n",
              "      <td>0.0</td>\n",
              "      <td>0.0</td>\n",
              "      <td>0.0</td>\n",
              "      <td>0.0</td>\n",
              "      <td>0.0</td>\n",
              "      <td>0.0</td>\n",
              "      <td>0</td>\n",
              "      <td>2017-05-01</td>\n",
              "    </tr>\n",
              "    <tr>\n",
              "      <th>3938</th>\n",
              "      <td>United States</td>\n",
              "      <td>Robert Moses Niagara</td>\n",
              "      <td>43.142700</td>\n",
              "      <td>-79.039400</td>\n",
              "      <td>Lewiston</td>\n",
              "      <td>New York</td>\n",
              "      <td>2429.1</td>\n",
              "      <td>Hydroelectric</td>\n",
              "      <td>0.0</td>\n",
              "      <td>0.0</td>\n",
              "      <td>0.0</td>\n",
              "      <td>0.0</td>\n",
              "      <td>2429.1</td>\n",
              "      <td>0.0</td>\n",
              "      <td>0.0</td>\n",
              "      <td>0.0</td>\n",
              "      <td>0.0</td>\n",
              "      <td>0.0</td>\n",
              "      <td>0.0</td>\n",
              "      <td>0</td>\n",
              "      <td>2017-05-01</td>\n",
              "    </tr>\n",
              "    <tr>\n",
              "      <th>2411</th>\n",
              "      <td>United States</td>\n",
              "      <td>John Day</td>\n",
              "      <td>45.716440</td>\n",
              "      <td>-120.694080</td>\n",
              "      <td>The Dalles</td>\n",
              "      <td>Oregon</td>\n",
              "      <td>2160.0</td>\n",
              "      <td>Hydroelectric</td>\n",
              "      <td>0.0</td>\n",
              "      <td>0.0</td>\n",
              "      <td>0.0</td>\n",
              "      <td>0.0</td>\n",
              "      <td>2160.0</td>\n",
              "      <td>0.0</td>\n",
              "      <td>0.0</td>\n",
              "      <td>0.0</td>\n",
              "      <td>0.0</td>\n",
              "      <td>0.0</td>\n",
              "      <td>0.0</td>\n",
              "      <td>0</td>\n",
              "      <td>2017-05-01</td>\n",
              "    </tr>\n",
              "  </tbody>\n",
              "</table>\n",
              "</div>"
            ],
            "text/plain": [
              "            Country         Facility Name  ...  Tidal (MW)       Date\n",
              "1916  United States          Grand Coulee  ...           0 2017-05-01\n",
              "413   United States           Bath County  ...           0 2017-05-01\n",
              "953   United States          Chief Joseph  ...           0 2017-05-01\n",
              "3938  United States  Robert Moses Niagara  ...           0 2017-05-01\n",
              "2411  United States              John Day  ...           0 2017-05-01\n",
              "\n",
              "[5 rows x 21 columns]"
            ]
          },
          "metadata": {
            "tags": []
          },
          "execution_count": 108
        }
      ]
    },
    {
      "cell_type": "code",
      "metadata": {
        "id": "WD-LxPdRHPen"
      },
      "source": [
        "US_state_pivot = pd.pivot_table(\n",
        "    US_df_sorted_top20, \n",
        "    values=\"Total Capacity (MW)\",\n",
        "    index=\"Source\",\n",
        "    columns=\"State\", \n",
        "    aggfunc=np.sum\n",
        ")"
      ],
      "execution_count": 104,
      "outputs": []
    },
    {
      "cell_type": "code",
      "metadata": {
        "id": "WqNjFDx8HS-_"
      },
      "source": [
        "US_state_pivot_sorted = US_state_pivot.sort_values('Washington', ascending=False)\n",
        "US_state_pivot_sorted_T = US_state_pivot_sorted.transpose()"
      ],
      "execution_count": 105,
      "outputs": []
    },
    {
      "cell_type": "code",
      "metadata": {
        "colab": {
          "base_uri": "https://localhost:8080/",
          "height": 708
        },
        "id": "H37yvEnUHbGG",
        "outputId": "427b6493-7c61-49ce-83d7-5d9f87f19a24"
      },
      "source": [
        "# Plot a bar chart using the DF\n",
        "ax = US_state_pivot_sorted_T.plot(kind=\"bar\")\n",
        "# Get a Matplotlib figure from the axes object for formatting purposes\n",
        "fig = ax.get_figure()\n",
        "# Change the plot dimensions (width, height)\n",
        "fig.set_size_inches(15,10)\n",
        "# Change the axes labels\n",
        "ax.set_xlabel(\"Country\", size = 14)\n",
        "ax.set_ylabel(\"Capacity(MW)\", size = 14)\n",
        "ax.set_title(\"Capacity by Source - US\", size=15)"
      ],
      "execution_count": 106,
      "outputs": [
        {
          "output_type": "execute_result",
          "data": {
            "text/plain": [
              "Text(0.5, 1.0, 'Capacity by Source - US')"
            ]
          },
          "metadata": {
            "tags": []
          },
          "execution_count": 106
        },
        {
          "output_type": "display_data",
          "data": {
            "image/png": "[encoded data removed]",
            "text/plain": [
              "<Figure size 1080x720 with 1 Axes>"
            ]
          },
          "metadata": {
            "tags": [],
            "needs_background": "light"
          }
        }
      ]
    },
    {
      "cell_type": "code",
      "metadata": {
        "id": "sr7AMpL-HeKd"
      },
      "source": [
        "# Mexico\n",
        "Mexico_df = df.loc[df['Country'] == 'Mexico']"
      ],
      "execution_count": 111,
      "outputs": []
    },
    {
      "cell_type": "code",
      "metadata": {
        "colab": {
          "base_uri": "https://localhost:8080/",
          "height": 627
        },
        "id": "u9ESdQCNI6wy",
        "outputId": "0cb650bc-dd36-4221-b024-e53fbacd9ccb"
      },
      "source": [
        "Mexico_df_sorted = Mexico_df.sort_values('Total Capacity (MW)', ascending=False)\n",
        "Mexico_df_sorted"
      ],
      "execution_count": 116,
      "outputs": [
        {
          "output_type": "execute_result",
          "data": {
            "text/html": [
              "<div>\n",
              "<style scoped>\n",
              "    .dataframe tbody tr th:only-of-type {\n",
              "        vertical-align: middle;\n",
              "    }\n",
              "\n",
              "    .dataframe tbody tr th {\n",
              "        vertical-align: top;\n",
              "    }\n",
              "\n",
              "    .dataframe thead th {\n",
              "        text-align: right;\n",
              "    }\n",
              "</style>\n",
              "<table border=\"1\" class=\"dataframe\">\n",
              "  <thead>\n",
              "    <tr style=\"text-align: right;\">\n",
              "      <th></th>\n",
              "      <th>Country</th>\n",
              "      <th>Facility Name</th>\n",
              "      <th>Latitude</th>\n",
              "      <th>Longitude</th>\n",
              "      <th>City</th>\n",
              "      <th>State</th>\n",
              "      <th>Total Capacity (MW)</th>\n",
              "      <th>Source</th>\n",
              "      <th>Coal (MW)</th>\n",
              "      <th>Natural Gas (MW)</th>\n",
              "      <th>Petroleum (MW)</th>\n",
              "      <th>Other Energy Source (MW)</th>\n",
              "      <th>Hydroelectric (MW)</th>\n",
              "      <th>Pumped-Storage Hydroelectric (MW)</th>\n",
              "      <th>Nuclear (MW)</th>\n",
              "      <th>Solar (MW)</th>\n",
              "      <th>Wind (MW)</th>\n",
              "      <th>Geothermal (MW)</th>\n",
              "      <th>Biomass (MW)</th>\n",
              "      <th>Tidal (MW)</th>\n",
              "      <th>Date</th>\n",
              "    </tr>\n",
              "  </thead>\n",
              "  <tbody>\n",
              "    <tr>\n",
              "      <th>129</th>\n",
              "      <td>Mexico</td>\n",
              "      <td>Manuel Moreno Torres (Chicoasén)</td>\n",
              "      <td>16.942800</td>\n",
              "      <td>-93.101175</td>\n",
              "      <td>Chicoasén</td>\n",
              "      <td>Chiapas</td>\n",
              "      <td>2400.0</td>\n",
              "      <td>Hydroelectric</td>\n",
              "      <td>0.0</td>\n",
              "      <td>0.0</td>\n",
              "      <td>0.0</td>\n",
              "      <td>0.0</td>\n",
              "      <td>2400.0</td>\n",
              "      <td>0.0</td>\n",
              "      <td>0.0</td>\n",
              "      <td>0.0</td>\n",
              "      <td>0.0</td>\n",
              "      <td>0.0</td>\n",
              "      <td>0.0</td>\n",
              "      <td>0</td>\n",
              "      <td>2017-08-01</td>\n",
              "    </tr>\n",
              "    <tr>\n",
              "      <th>128</th>\n",
              "      <td>Mexico</td>\n",
              "      <td>Infiernillo</td>\n",
              "      <td>18.271147</td>\n",
              "      <td>-101.893934</td>\n",
              "      <td>Montes de Oca</td>\n",
              "      <td>Guerrero</td>\n",
              "      <td>1200.0</td>\n",
              "      <td>Hydroelectric</td>\n",
              "      <td>0.0</td>\n",
              "      <td>0.0</td>\n",
              "      <td>0.0</td>\n",
              "      <td>0.0</td>\n",
              "      <td>1200.0</td>\n",
              "      <td>0.0</td>\n",
              "      <td>0.0</td>\n",
              "      <td>0.0</td>\n",
              "      <td>0.0</td>\n",
              "      <td>0.0</td>\n",
              "      <td>0.0</td>\n",
              "      <td>0</td>\n",
              "      <td>2017-08-01</td>\n",
              "    </tr>\n",
              "    <tr>\n",
              "      <th>127</th>\n",
              "      <td>Mexico</td>\n",
              "      <td>Malpaso</td>\n",
              "      <td>17.180596</td>\n",
              "      <td>-93.597336</td>\n",
              "      <td>Tecpatán</td>\n",
              "      <td>Chiapas</td>\n",
              "      <td>1080.0</td>\n",
              "      <td>Hydroelectric</td>\n",
              "      <td>0.0</td>\n",
              "      <td>0.0</td>\n",
              "      <td>0.0</td>\n",
              "      <td>0.0</td>\n",
              "      <td>1080.0</td>\n",
              "      <td>0.0</td>\n",
              "      <td>0.0</td>\n",
              "      <td>0.0</td>\n",
              "      <td>0.0</td>\n",
              "      <td>0.0</td>\n",
              "      <td>0.0</td>\n",
              "      <td>0</td>\n",
              "      <td>2017-08-01</td>\n",
              "    </tr>\n",
              "    <tr>\n",
              "      <th>126</th>\n",
              "      <td>Mexico</td>\n",
              "      <td>Aguamilpa Solidaridad</td>\n",
              "      <td>21.839472</td>\n",
              "      <td>-104.803783</td>\n",
              "      <td>Tepic</td>\n",
              "      <td>Nayarit</td>\n",
              "      <td>960.0</td>\n",
              "      <td>Hydroelectric</td>\n",
              "      <td>0.0</td>\n",
              "      <td>0.0</td>\n",
              "      <td>0.0</td>\n",
              "      <td>0.0</td>\n",
              "      <td>960.0</td>\n",
              "      <td>0.0</td>\n",
              "      <td>0.0</td>\n",
              "      <td>0.0</td>\n",
              "      <td>0.0</td>\n",
              "      <td>0.0</td>\n",
              "      <td>0.0</td>\n",
              "      <td>0</td>\n",
              "      <td>2017-08-01</td>\n",
              "    </tr>\n",
              "    <tr>\n",
              "      <th>125</th>\n",
              "      <td>Mexico</td>\n",
              "      <td>Belisario Domínguez (Angostura)</td>\n",
              "      <td>16.401774</td>\n",
              "      <td>-92.778425</td>\n",
              "      <td>Venustiano Carranza</td>\n",
              "      <td>Chiapas</td>\n",
              "      <td>900.0</td>\n",
              "      <td>Hydroelectric</td>\n",
              "      <td>0.0</td>\n",
              "      <td>0.0</td>\n",
              "      <td>0.0</td>\n",
              "      <td>0.0</td>\n",
              "      <td>900.0</td>\n",
              "      <td>0.0</td>\n",
              "      <td>0.0</td>\n",
              "      <td>0.0</td>\n",
              "      <td>0.0</td>\n",
              "      <td>0.0</td>\n",
              "      <td>0.0</td>\n",
              "      <td>0</td>\n",
              "      <td>2017-08-01</td>\n",
              "    </tr>\n",
              "    <tr>\n",
              "      <th>...</th>\n",
              "      <td>...</td>\n",
              "      <td>...</td>\n",
              "      <td>...</td>\n",
              "      <td>...</td>\n",
              "      <td>...</td>\n",
              "      <td>...</td>\n",
              "      <td>...</td>\n",
              "      <td>...</td>\n",
              "      <td>...</td>\n",
              "      <td>...</td>\n",
              "      <td>...</td>\n",
              "      <td>...</td>\n",
              "      <td>...</td>\n",
              "      <td>...</td>\n",
              "      <td>...</td>\n",
              "      <td>...</td>\n",
              "      <td>...</td>\n",
              "      <td>...</td>\n",
              "      <td>...</td>\n",
              "      <td>...</td>\n",
              "      <td>...</td>\n",
              "    </tr>\n",
              "    <tr>\n",
              "      <th>4</th>\n",
              "      <td>Mexico</td>\n",
              "      <td>Papelera Veracruzana</td>\n",
              "      <td>18.834267</td>\n",
              "      <td>-97.103047</td>\n",
              "      <td>Orizaba</td>\n",
              "      <td>Veracruz</td>\n",
              "      <td>1.3</td>\n",
              "      <td>Hydroelectric</td>\n",
              "      <td>0.0</td>\n",
              "      <td>0.0</td>\n",
              "      <td>0.0</td>\n",
              "      <td>0.0</td>\n",
              "      <td>1.3</td>\n",
              "      <td>0.0</td>\n",
              "      <td>0.0</td>\n",
              "      <td>0.0</td>\n",
              "      <td>0.0</td>\n",
              "      <td>0.0</td>\n",
              "      <td>0.0</td>\n",
              "      <td>0</td>\n",
              "      <td>2017-08-01</td>\n",
              "    </tr>\n",
              "    <tr>\n",
              "      <th>3</th>\n",
              "      <td>Mexico</td>\n",
              "      <td>Hidroelectrica Cajon de Peña</td>\n",
              "      <td>20.017135</td>\n",
              "      <td>-105.221590</td>\n",
              "      <td>Tomatlán</td>\n",
              "      <td>Jalisco</td>\n",
              "      <td>1.2</td>\n",
              "      <td>Hydroelectric</td>\n",
              "      <td>0.0</td>\n",
              "      <td>0.0</td>\n",
              "      <td>0.0</td>\n",
              "      <td>0.0</td>\n",
              "      <td>1.2</td>\n",
              "      <td>0.0</td>\n",
              "      <td>0.0</td>\n",
              "      <td>0.0</td>\n",
              "      <td>0.0</td>\n",
              "      <td>0.0</td>\n",
              "      <td>0.0</td>\n",
              "      <td>0</td>\n",
              "      <td>2017-08-01</td>\n",
              "    </tr>\n",
              "    <tr>\n",
              "      <th>2</th>\n",
              "      <td>Mexico</td>\n",
              "      <td>Tirio</td>\n",
              "      <td>19.629724</td>\n",
              "      <td>-101.258937</td>\n",
              "      <td>Morelia</td>\n",
              "      <td>Michoacán</td>\n",
              "      <td>1.1</td>\n",
              "      <td>Hydroelectric</td>\n",
              "      <td>0.0</td>\n",
              "      <td>0.0</td>\n",
              "      <td>0.0</td>\n",
              "      <td>0.0</td>\n",
              "      <td>1.1</td>\n",
              "      <td>0.0</td>\n",
              "      <td>0.0</td>\n",
              "      <td>0.0</td>\n",
              "      <td>0.0</td>\n",
              "      <td>0.0</td>\n",
              "      <td>0.0</td>\n",
              "      <td>0</td>\n",
              "      <td>2017-08-01</td>\n",
              "    </tr>\n",
              "    <tr>\n",
              "      <th>1</th>\n",
              "      <td>Mexico</td>\n",
              "      <td>Plamex</td>\n",
              "      <td>32.416893</td>\n",
              "      <td>-115.234141</td>\n",
              "      <td>Tijuana</td>\n",
              "      <td>Baja California</td>\n",
              "      <td>1.0</td>\n",
              "      <td>Solar</td>\n",
              "      <td>0.0</td>\n",
              "      <td>0.0</td>\n",
              "      <td>0.0</td>\n",
              "      <td>0.0</td>\n",
              "      <td>0.0</td>\n",
              "      <td>0.0</td>\n",
              "      <td>0.0</td>\n",
              "      <td>1.0</td>\n",
              "      <td>0.0</td>\n",
              "      <td>0.0</td>\n",
              "      <td>0.0</td>\n",
              "      <td>0</td>\n",
              "      <td>2017-08-01</td>\n",
              "    </tr>\n",
              "    <tr>\n",
              "      <th>0</th>\n",
              "      <td>Mexico</td>\n",
              "      <td>Santa Rosalía</td>\n",
              "      <td>27.410710</td>\n",
              "      <td>-112.529196</td>\n",
              "      <td>Mulegé</td>\n",
              "      <td>Baja California Sur</td>\n",
              "      <td>1.0</td>\n",
              "      <td>Solar</td>\n",
              "      <td>0.0</td>\n",
              "      <td>0.0</td>\n",
              "      <td>0.0</td>\n",
              "      <td>0.0</td>\n",
              "      <td>0.0</td>\n",
              "      <td>0.0</td>\n",
              "      <td>0.0</td>\n",
              "      <td>1.0</td>\n",
              "      <td>0.0</td>\n",
              "      <td>0.0</td>\n",
              "      <td>0.0</td>\n",
              "      <td>0</td>\n",
              "      <td>2017-08-01</td>\n",
              "    </tr>\n",
              "  </tbody>\n",
              "</table>\n",
              "<p>130 rows × 21 columns</p>\n",
              "</div>"
            ],
            "text/plain": [
              "    Country                     Facility Name  ...  Tidal (MW)       Date\n",
              "129  Mexico  Manuel Moreno Torres (Chicoasén)  ...           0 2017-08-01\n",
              "128  Mexico                       Infiernillo  ...           0 2017-08-01\n",
              "127  Mexico                           Malpaso  ...           0 2017-08-01\n",
              "126  Mexico             Aguamilpa Solidaridad  ...           0 2017-08-01\n",
              "125  Mexico   Belisario Domínguez (Angostura)  ...           0 2017-08-01\n",
              "..      ...                               ...  ...         ...        ...\n",
              "4    Mexico              Papelera Veracruzana  ...           0 2017-08-01\n",
              "3    Mexico      Hidroelectrica Cajon de Peña  ...           0 2017-08-01\n",
              "2    Mexico                             Tirio  ...           0 2017-08-01\n",
              "1    Mexico                            Plamex  ...           0 2017-08-01\n",
              "0    Mexico                     Santa Rosalía  ...           0 2017-08-01\n",
              "\n",
              "[130 rows x 21 columns]"
            ]
          },
          "metadata": {
            "tags": []
          },
          "execution_count": 116
        }
      ]
    },
    {
      "cell_type": "code",
      "metadata": {
        "id": "SN1Gqw_6JFc5"
      },
      "source": [
        "Mexico_state_pivot = pd.pivot_table(\n",
        "    Mexico_df_sorted, \n",
        "    values=\"Total Capacity (MW)\",\n",
        "    index=\"Source\",\n",
        "    columns=\"State\", \n",
        "    aggfunc=np.sum\n",
        ")"
      ],
      "execution_count": 117,
      "outputs": []
    },
    {
      "cell_type": "code",
      "metadata": {
        "id": "xwbIDu38JMJO"
      },
      "source": [
        "Mexico_state_pivot_sorted = Mexico_state_pivot.sort_values('Chiapas', ascending=False)\n",
        "Mexico_state_pivot_sorted_T = Mexico_state_pivot_sorted.transpose()"
      ],
      "execution_count": 118,
      "outputs": []
    },
    {
      "cell_type": "code",
      "metadata": {
        "colab": {
          "base_uri": "https://localhost:8080/",
          "height": 727
        },
        "id": "OYOY0o7nJpbG",
        "outputId": "5999fcac-7c53-44da-ce21-21d1233e0b12"
      },
      "source": [
        "# Plot a bar chart using the DF\n",
        "ax = Mexico_state_pivot_sorted_T.plot(kind=\"bar\")\n",
        "# Get a Matplotlib figure from the axes object for formatting purposes\n",
        "fig = ax.get_figure()\n",
        "# Change the plot dimensions (width, height)\n",
        "fig.set_size_inches(15,10)\n",
        "# Change the axes labels\n",
        "ax.set_xlabel(\"Country\", size = 14)\n",
        "ax.set_ylabel(\"Capacity(MW)\", size = 14)\n",
        "ax.set_title(\"Capacity by Source - Mexico\", size=15)"
      ],
      "execution_count": 119,
      "outputs": [
        {
          "output_type": "execute_result",
          "data": {
            "text/plain": [
              "Text(0.5, 1.0, 'Capacity by Source - Mexico')"
            ]
          },
          "metadata": {
            "tags": []
          },
          "execution_count": 119
        },
        {
          "output_type": "display_data",
          "data": {
            "image/png": "[encoded data removed]",
            "text/plain": [
              "<Figure size 1080x720 with 1 Axes>"
            ]
          },
          "metadata": {
            "tags": [],
            "needs_background": "light"
          }
        }
      ]
    },
    {
      "cell_type": "markdown",
      "metadata": {
        "id": "6XrSTl13P3hK"
      },
      "source": [
        "# END"
      ]
    }
  ]
}